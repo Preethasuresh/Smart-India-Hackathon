{
 "cells": [
  {
   "cell_type": "markdown",
   "id": "925f31ec",
   "metadata": {},
   "source": [
    "<H3>Important Libraries</H3>"
   ]
  },
  {
   "cell_type": "code",
   "execution_count": 1,
   "id": "2f6572b1",
   "metadata": {},
   "outputs": [],
   "source": [
    "import pandas as pd\n",
    "import numpy as np\n",
    "import seaborn as sns\n",
    "from scipy import stats\n",
    "import matplotlib.pyplot as plt\n",
    "from scipy.stats import pearsonr\n",
    "from sklearn.model_selection import train_test_split\n",
    "from sklearn.preprocessing import MinMaxScaler\n",
    "from sklearn.linear_model import LinearRegression\n",
    "from sklearn.linear_model import LogisticRegression\n",
    "from sklearn.tree import DecisionTreeRegressor\n",
    "from sklearn.tree import DecisionTreeClassifier\n",
    "from sklearn.ensemble import RandomForestRegressor\n",
    "from sklearn.ensemble import RandomForestClassifier\n",
    "from sklearn.ensemble import GradientBoostingRegressor\n",
    "from sklearn.ensemble import GradientBoostingClassifier\n",
    "from sklearn.ensemble import AdaBoostRegressor\n",
    "from sklearn.ensemble import AdaBoostClassifier\n",
    "from sklearn.metrics import mean_squared_error"
   ]
  },
  {
   "cell_type": "markdown",
   "id": "93805416",
   "metadata": {},
   "source": [
    "<h3>Read the Dataset</h3>"
   ]
  },
  {
   "cell_type": "code",
   "execution_count": 2,
   "id": "d02aa81f",
   "metadata": {},
   "outputs": [],
   "source": [
    "train_data=pd.read_csv(\"C:/Users/Admin/Downloads/hackathon train.csv\")\n",
    "test_data=pd.read_csv(\"C:/Users/Admin/Downloads/hackathon test.csv\")"
   ]
  },
  {
   "cell_type": "markdown",
   "id": "43581335",
   "metadata": {},
   "source": [
    "<h3>Check the dataset</h3>"
   ]
  },
  {
   "cell_type": "code",
   "execution_count": 3,
   "id": "a29264b1",
   "metadata": {},
   "outputs": [
    {
     "data": {
      "text/plain": [
       "Index(['Name', 'Platform', 'Year_of_Release', 'Genre', 'Publisher', 'NA_Sales',\n",
       "       'EU_Sales', 'JP_Sales', 'Critic_Score', 'Critic_Count', 'User_Score',\n",
       "       'User_Count', 'Developer', 'Rating', 'Global_Sales'],\n",
       "      dtype='object')"
      ]
     },
     "execution_count": 3,
     "metadata": {},
     "output_type": "execute_result"
    }
   ],
   "source": [
    "train_data.columns"
   ]
  },
  {
   "cell_type": "code",
   "execution_count": 4,
   "id": "03c0a0ff",
   "metadata": {},
   "outputs": [
    {
     "data": {
      "text/plain": [
       "(14576, 15)"
      ]
     },
     "execution_count": 4,
     "metadata": {},
     "output_type": "execute_result"
    }
   ],
   "source": [
    "train_data.shape"
   ]
  },
  {
   "cell_type": "code",
   "execution_count": 5,
   "id": "9beeee56",
   "metadata": {},
   "outputs": [
    {
     "data": {
      "text/plain": [
       "Index(['Name', 'Platform', 'Year_of_Release', 'Genre', 'Publisher', 'NA_Sales',\n",
       "       'EU_Sales', 'JP_Sales', 'Critic_Score', 'Critic_Count', 'User_Score',\n",
       "       'User_Count', 'Developer', 'Rating'],\n",
       "      dtype='object')"
      ]
     },
     "execution_count": 5,
     "metadata": {},
     "output_type": "execute_result"
    }
   ],
   "source": [
    "test_data.columns"
   ]
  },
  {
   "cell_type": "markdown",
   "id": "ed0ad03e",
   "metadata": {},
   "source": [
    "<h3>Splitting Y from train data</h3>"
   ]
  },
  {
   "cell_type": "code",
   "execution_count": 6,
   "id": "3d7d419c",
   "metadata": {},
   "outputs": [],
   "source": [
    "y=train_data.Global_Sales\n",
    "train=train_data.drop(\"Global_Sales\",axis=1)"
   ]
  },
  {
   "cell_type": "markdown",
   "id": "2b6ccb4e",
   "metadata": {},
   "source": [
    "<h3>Merging the test and train data</h3>"
   ]
  },
  {
   "cell_type": "code",
   "execution_count": 7,
   "id": "36e1230c",
   "metadata": {},
   "outputs": [],
   "source": [
    "Data=train.append(test_data,ignore_index=True,sort=False)"
   ]
  },
  {
   "cell_type": "markdown",
   "id": "df7ce7df",
   "metadata": {},
   "source": [
    "<h3>Perform EDA</h3>"
   ]
  },
  {
   "cell_type": "code",
   "execution_count": 8,
   "id": "956491ff",
   "metadata": {},
   "outputs": [
    {
     "data": {
      "text/html": [
       "<div>\n",
       "<style scoped>\n",
       "    .dataframe tbody tr th:only-of-type {\n",
       "        vertical-align: middle;\n",
       "    }\n",
       "\n",
       "    .dataframe tbody tr th {\n",
       "        vertical-align: top;\n",
       "    }\n",
       "\n",
       "    .dataframe thead th {\n",
       "        text-align: right;\n",
       "    }\n",
       "</style>\n",
       "<table border=\"1\" class=\"dataframe\">\n",
       "  <thead>\n",
       "    <tr style=\"text-align: right;\">\n",
       "      <th></th>\n",
       "      <th>Name</th>\n",
       "      <th>Platform</th>\n",
       "      <th>Year_of_Release</th>\n",
       "      <th>Genre</th>\n",
       "      <th>Publisher</th>\n",
       "      <th>NA_Sales</th>\n",
       "      <th>EU_Sales</th>\n",
       "      <th>JP_Sales</th>\n",
       "      <th>Critic_Score</th>\n",
       "      <th>Critic_Count</th>\n",
       "      <th>User_Score</th>\n",
       "      <th>User_Count</th>\n",
       "      <th>Developer</th>\n",
       "      <th>Rating</th>\n",
       "    </tr>\n",
       "  </thead>\n",
       "  <tbody>\n",
       "    <tr>\n",
       "      <th>0</th>\n",
       "      <td>Wii Sports</td>\n",
       "      <td>Wii</td>\n",
       "      <td>2006.0</td>\n",
       "      <td>Sports</td>\n",
       "      <td>Nintendo</td>\n",
       "      <td>41.36</td>\n",
       "      <td>28.96</td>\n",
       "      <td>3.77</td>\n",
       "      <td>76.0</td>\n",
       "      <td>51.0</td>\n",
       "      <td>8</td>\n",
       "      <td>322.0</td>\n",
       "      <td>Nintendo</td>\n",
       "      <td>E</td>\n",
       "    </tr>\n",
       "    <tr>\n",
       "      <th>1</th>\n",
       "      <td>Super Mario Bros.</td>\n",
       "      <td>NES</td>\n",
       "      <td>1985.0</td>\n",
       "      <td>Platform</td>\n",
       "      <td>Nintendo</td>\n",
       "      <td>29.08</td>\n",
       "      <td>3.58</td>\n",
       "      <td>6.81</td>\n",
       "      <td>NaN</td>\n",
       "      <td>NaN</td>\n",
       "      <td>NaN</td>\n",
       "      <td>NaN</td>\n",
       "      <td>NaN</td>\n",
       "      <td>NaN</td>\n",
       "    </tr>\n",
       "    <tr>\n",
       "      <th>2</th>\n",
       "      <td>Mario Kart Wii</td>\n",
       "      <td>Wii</td>\n",
       "      <td>2008.0</td>\n",
       "      <td>Racing</td>\n",
       "      <td>Nintendo</td>\n",
       "      <td>15.68</td>\n",
       "      <td>12.76</td>\n",
       "      <td>3.79</td>\n",
       "      <td>82.0</td>\n",
       "      <td>73.0</td>\n",
       "      <td>8.3</td>\n",
       "      <td>709.0</td>\n",
       "      <td>Nintendo</td>\n",
       "      <td>E</td>\n",
       "    </tr>\n",
       "    <tr>\n",
       "      <th>3</th>\n",
       "      <td>Wii Sports Resort</td>\n",
       "      <td>Wii</td>\n",
       "      <td>2009.0</td>\n",
       "      <td>Sports</td>\n",
       "      <td>Nintendo</td>\n",
       "      <td>15.61</td>\n",
       "      <td>10.93</td>\n",
       "      <td>3.28</td>\n",
       "      <td>80.0</td>\n",
       "      <td>73.0</td>\n",
       "      <td>8</td>\n",
       "      <td>192.0</td>\n",
       "      <td>Nintendo</td>\n",
       "      <td>E</td>\n",
       "    </tr>\n",
       "    <tr>\n",
       "      <th>4</th>\n",
       "      <td>Pokemon Red/Pokemon Blue</td>\n",
       "      <td>GB</td>\n",
       "      <td>1996.0</td>\n",
       "      <td>Role-Playing</td>\n",
       "      <td>Nintendo</td>\n",
       "      <td>11.27</td>\n",
       "      <td>8.89</td>\n",
       "      <td>10.22</td>\n",
       "      <td>NaN</td>\n",
       "      <td>NaN</td>\n",
       "      <td>NaN</td>\n",
       "      <td>NaN</td>\n",
       "      <td>NaN</td>\n",
       "      <td>NaN</td>\n",
       "    </tr>\n",
       "  </tbody>\n",
       "</table>\n",
       "</div>"
      ],
      "text/plain": [
       "                       Name Platform  Year_of_Release         Genre Publisher  \\\n",
       "0                Wii Sports      Wii           2006.0        Sports  Nintendo   \n",
       "1         Super Mario Bros.      NES           1985.0      Platform  Nintendo   \n",
       "2            Mario Kart Wii      Wii           2008.0        Racing  Nintendo   \n",
       "3         Wii Sports Resort      Wii           2009.0        Sports  Nintendo   \n",
       "4  Pokemon Red/Pokemon Blue       GB           1996.0  Role-Playing  Nintendo   \n",
       "\n",
       "   NA_Sales  EU_Sales  JP_Sales  Critic_Score  Critic_Count User_Score  \\\n",
       "0     41.36     28.96      3.77          76.0          51.0          8   \n",
       "1     29.08      3.58      6.81           NaN           NaN        NaN   \n",
       "2     15.68     12.76      3.79          82.0          73.0        8.3   \n",
       "3     15.61     10.93      3.28          80.0          73.0          8   \n",
       "4     11.27      8.89     10.22           NaN           NaN        NaN   \n",
       "\n",
       "   User_Count Developer Rating  \n",
       "0       322.0  Nintendo      E  \n",
       "1         NaN       NaN    NaN  \n",
       "2       709.0  Nintendo      E  \n",
       "3       192.0  Nintendo      E  \n",
       "4         NaN       NaN    NaN  "
      ]
     },
     "execution_count": 8,
     "metadata": {},
     "output_type": "execute_result"
    }
   ],
   "source": [
    "Data.head()"
   ]
  },
  {
   "cell_type": "code",
   "execution_count": 9,
   "id": "b7b5549d",
   "metadata": {},
   "outputs": [
    {
     "name": "stdout",
     "output_type": "stream",
     "text": [
      "<class 'pandas.core.frame.DataFrame'>\n",
      "RangeIndex: 16719 entries, 0 to 16718\n",
      "Data columns (total 14 columns):\n",
      " #   Column           Non-Null Count  Dtype  \n",
      "---  ------           --------------  -----  \n",
      " 0   Name             16717 non-null  object \n",
      " 1   Platform         16719 non-null  object \n",
      " 2   Year_of_Release  16450 non-null  float64\n",
      " 3   Genre            16717 non-null  object \n",
      " 4   Publisher        16665 non-null  object \n",
      " 5   NA_Sales         16719 non-null  float64\n",
      " 6   EU_Sales         16719 non-null  float64\n",
      " 7   JP_Sales         16719 non-null  float64\n",
      " 8   Critic_Score     8137 non-null   float64\n",
      " 9   Critic_Count     8137 non-null   float64\n",
      " 10  User_Score       10015 non-null  object \n",
      " 11  User_Count       7590 non-null   float64\n",
      " 12  Developer        10096 non-null  object \n",
      " 13  Rating           9950 non-null   object \n",
      "dtypes: float64(7), object(7)\n",
      "memory usage: 1.8+ MB\n"
     ]
    }
   ],
   "source": [
    "Data.info()"
   ]
  },
  {
   "cell_type": "code",
   "execution_count": 10,
   "id": "16d8951f",
   "metadata": {},
   "outputs": [
    {
     "data": {
      "text/plain": [
       "(16719, 14)"
      ]
     },
     "execution_count": 10,
     "metadata": {},
     "output_type": "execute_result"
    }
   ],
   "source": [
    "Data.shape"
   ]
  },
  {
   "cell_type": "code",
   "execution_count": 11,
   "id": "1ac38588",
   "metadata": {},
   "outputs": [
    {
     "data": {
      "text/plain": [
       "count     16719\n",
       "unique       31\n",
       "top         PS2\n",
       "freq       2161\n",
       "Name: Platform, dtype: object"
      ]
     },
     "execution_count": 11,
     "metadata": {},
     "output_type": "execute_result"
    }
   ],
   "source": [
    "Data.Platform.describe()"
   ]
  },
  {
   "cell_type": "code",
   "execution_count": 12,
   "id": "2d0ea73b",
   "metadata": {},
   "outputs": [
    {
     "data": {
      "text/plain": [
       "array(['Wii', 'NES', 'GB', 'DS', 'X360', 'PS3', 'PS2', 'SNES', 'GBA',\n",
       "       'PS4', '3DS', 'N64', 'PS', 'XB', 'PC', '2600', 'PSP', 'XOne',\n",
       "       'WiiU', 'GC', 'GEN', 'DC', 'PSV', 'SAT', 'SCD', 'WS', 'NG', 'TG16',\n",
       "       '3DO', 'GG', 'PCFX'], dtype=object)"
      ]
     },
     "execution_count": 12,
     "metadata": {},
     "output_type": "execute_result"
    }
   ],
   "source": [
    "Data.Platform.unique()"
   ]
  },
  {
   "cell_type": "code",
   "execution_count": 13,
   "id": "3815811b",
   "metadata": {},
   "outputs": [
    {
     "data": {
      "text/plain": [
       "0"
      ]
     },
     "execution_count": 13,
     "metadata": {},
     "output_type": "execute_result"
    }
   ],
   "source": [
    "Data.Platform.isnull().sum()"
   ]
  },
  {
   "cell_type": "code",
   "execution_count": 14,
   "id": "05512e95",
   "metadata": {},
   "outputs": [
    {
     "name": "stderr",
     "output_type": "stream",
     "text": [
      "C:\\Users\\Admin\\anaconda3\\lib\\site-packages\\seaborn\\_decorators.py:36: FutureWarning: Pass the following variable as a keyword arg: x. From version 0.12, the only valid positional argument will be `data`, and passing other arguments without an explicit keyword will result in an error or misinterpretation.\n",
      "  warnings.warn(\n"
     ]
    },
    {
     "data": {
      "text/plain": [
       "<AxesSubplot:xlabel='Platform', ylabel='count'>"
      ]
     },
     "execution_count": 14,
     "metadata": {},
     "output_type": "execute_result"
    },
    {
     "data": {
      "image/png": "[encoded data removed]",
      "text/plain": [
       "<Figure size 1440x432 with 1 Axes>"
      ]
     },
     "metadata": {
      "needs_background": "light"
     },
     "output_type": "display_data"
    }
   ],
   "source": [
    "plt.figure(figsize=(20,6))\n",
    "sns.countplot(Data.Platform)        \n"
   ]
  },
  {
   "cell_type": "code",
   "execution_count": 15,
   "id": "f1fcc303",
   "metadata": {},
   "outputs": [
    {
     "data": {
      "text/plain": [
       "PS2     2161\n",
       "DS      2152\n",
       "PS3     1331\n",
       "Wii     1320\n",
       "X360    1262\n",
       "PSP     1209\n",
       "PS      1197\n",
       "PC       974\n",
       "XB       824\n",
       "GBA      822\n",
       "GC       556\n",
       "3DS      520\n",
       "PSV      432\n",
       "PS4      393\n",
       "N64      319\n",
       "XOne     247\n",
       "SNES     239\n",
       "SAT      173\n",
       "WiiU     147\n",
       "2600     133\n",
       "NES       98\n",
       "GB        98\n",
       "DC        52\n",
       "GEN       29\n",
       "NG        12\n",
       "SCD        6\n",
       "WS         6\n",
       "3DO        3\n",
       "TG16       2\n",
       "GG         1\n",
       "PCFX       1\n",
       "Name: Platform, dtype: int64"
      ]
     },
     "execution_count": 15,
     "metadata": {},
     "output_type": "execute_result"
    }
   ],
   "source": [
    "Data.Platform.value_counts()"
   ]
  },
  {
   "cell_type": "code",
   "execution_count": 16,
   "id": "50c7a84b",
   "metadata": {},
   "outputs": [
    {
     "data": {
      "text/plain": [
       "count    16450.000000\n",
       "mean      2006.487356\n",
       "std          5.878995\n",
       "min       1980.000000\n",
       "25%       2003.000000\n",
       "50%       2007.000000\n",
       "75%       2010.000000\n",
       "max       2020.000000\n",
       "Name: Year_of_Release, dtype: float64"
      ]
     },
     "execution_count": 16,
     "metadata": {},
     "output_type": "execute_result"
    }
   ],
   "source": [
    "Data.Year_of_Release.describe()"
   ]
  },
  {
   "cell_type": "code",
   "execution_count": 17,
   "id": "b7ad5b93",
   "metadata": {},
   "outputs": [
    {
     "data": {
      "text/plain": [
       "array([2006., 1985., 2008., 2009., 1996., 1989., 1984., 2005., 1999.,\n",
       "       2007., 2010., 2013., 2004., 1990., 1988., 2002., 2001., 2011.,\n",
       "       1998., 2015., 2012., 2014., 1992., 1997., 1993., 1994., 1982.,\n",
       "       2016., 2003., 1986., 2000.,   nan, 1995., 1991., 1981., 1987.,\n",
       "       1980., 1983., 2020., 2017.])"
      ]
     },
     "execution_count": 17,
     "metadata": {},
     "output_type": "execute_result"
    }
   ],
   "source": [
    "Data.Year_of_Release.unique()"
   ]
  },
  {
   "cell_type": "code",
   "execution_count": 18,
   "id": "214e9728",
   "metadata": {},
   "outputs": [
    {
     "data": {
      "text/plain": [
       "269"
      ]
     },
     "execution_count": 18,
     "metadata": {},
     "output_type": "execute_result"
    }
   ],
   "source": [
    "Data.Year_of_Release.isnull().sum()"
   ]
  },
  {
   "cell_type": "code",
   "execution_count": 19,
   "id": "ae2b8f66",
   "metadata": {},
   "outputs": [
    {
     "data": {
      "text/plain": [
       "0    2008.0\n",
       "dtype: float64"
      ]
     },
     "execution_count": 19,
     "metadata": {},
     "output_type": "execute_result"
    }
   ],
   "source": [
    "Data.Year_of_Release.mode()"
   ]
  },
  {
   "cell_type": "code",
   "execution_count": 20,
   "id": "ce1e20fd",
   "metadata": {},
   "outputs": [],
   "source": [
    "Data.Year_of_Release.fillna(\"2008.0\",inplace=True)"
   ]
  },
  {
   "cell_type": "code",
   "execution_count": 21,
   "id": "1f1bfee2",
   "metadata": {},
   "outputs": [
    {
     "data": {
      "text/plain": [
       "0"
      ]
     },
     "execution_count": 21,
     "metadata": {},
     "output_type": "execute_result"
    }
   ],
   "source": [
    "Data.Year_of_Release.isnull().sum()"
   ]
  },
  {
   "cell_type": "code",
   "execution_count": 22,
   "id": "5fda262c",
   "metadata": {},
   "outputs": [
    {
     "name": "stderr",
     "output_type": "stream",
     "text": [
      "C:\\Users\\Admin\\anaconda3\\lib\\site-packages\\seaborn\\_decorators.py:36: FutureWarning: Pass the following variable as a keyword arg: x. From version 0.12, the only valid positional argument will be `data`, and passing other arguments without an explicit keyword will result in an error or misinterpretation.\n",
      "  warnings.warn(\n"
     ]
    },
    {
     "data": {
      "text/plain": [
       "<AxesSubplot:xlabel='Year_of_Release', ylabel='count'>"
      ]
     },
     "execution_count": 22,
     "metadata": {},
     "output_type": "execute_result"
    },
    {
     "data": {
      "image/png": "[encoded data removed]",
      "text/plain": [
       "<Figure size 1800x432 with 1 Axes>"
      ]
     },
     "metadata": {
      "needs_background": "light"
     },
     "output_type": "display_data"
    }
   ],
   "source": [
    "plt.figure(figsize=(25,6))\n",
    "sns.countplot(Data.Year_of_Release)"
   ]
  },
  {
   "cell_type": "code",
   "execution_count": 23,
   "id": "35aeb0d1",
   "metadata": {},
   "outputs": [
    {
     "data": {
      "text/plain": [
       "2008.0    1427\n",
       "2009.0    1426\n",
       "2010.0    1255\n",
       "2007.0    1197\n",
       "2011.0    1136\n",
       "2006.0    1006\n",
       "2005.0     939\n",
       "2002.0     829\n",
       "2003.0     775\n",
       "2004.0     762\n",
       "2012.0     653\n",
       "2015.0     606\n",
       "2014.0     581\n",
       "2013.0     544\n",
       "2016.0     502\n",
       "2001.0     482\n",
       "1998.0     379\n",
       "2000.0     350\n",
       "1999.0     338\n",
       "1997.0     289\n",
       "2008.0     269\n",
       "1996.0     263\n",
       "1995.0     219\n",
       "1994.0     121\n",
       "1993.0      62\n",
       "1981.0      46\n",
       "1992.0      43\n",
       "1991.0      41\n",
       "1982.0      36\n",
       "1986.0      21\n",
       "1989.0      17\n",
       "1983.0      17\n",
       "1990.0      16\n",
       "1987.0      16\n",
       "1988.0      15\n",
       "1985.0      14\n",
       "1984.0      14\n",
       "1980.0       9\n",
       "2017.0       3\n",
       "2020.0       1\n",
       "Name: Year_of_Release, dtype: int64"
      ]
     },
     "execution_count": 23,
     "metadata": {},
     "output_type": "execute_result"
    }
   ],
   "source": [
    "Data.Year_of_Release.value_counts()"
   ]
  },
  {
   "cell_type": "code",
   "execution_count": 24,
   "id": "4d925c15",
   "metadata": {},
   "outputs": [
    {
     "data": {
      "text/plain": [
       "count               16665\n",
       "unique                580\n",
       "top       Electronic Arts\n",
       "freq                 1356\n",
       "Name: Publisher, dtype: object"
      ]
     },
     "execution_count": 24,
     "metadata": {},
     "output_type": "execute_result"
    }
   ],
   "source": [
    "Data.Publisher.describe()"
   ]
  },
  {
   "cell_type": "code",
   "execution_count": 25,
   "id": "2fcca77c",
   "metadata": {
    "scrolled": true
   },
   "outputs": [
    {
     "data": {
      "text/plain": [
       "array(['Nintendo', 'Microsoft Game Studios', 'Take-Two Interactive',\n",
       "       'Sony Computer Entertainment', 'Activision', 'Ubisoft',\n",
       "       'Bethesda Softworks', 'Electronic Arts', 'Sega', 'SquareSoft',\n",
       "       'Atari', '505 Games', 'Capcom', 'GT Interactive',\n",
       "       'Konami Digital Entertainment', 'Square Enix',\n",
       "       'Sony Computer Entertainment Europe', 'Virgin Interactive',\n",
       "       'LucasArts', 'Warner Bros. Interactive Entertainment',\n",
       "       'Universal Interactive', 'Eidos Interactive', 'RedOctane',\n",
       "       'Vivendi Games', 'Enix Corporation', 'Namco Bandai Games',\n",
       "       'Palcom', 'Hasbro Interactive', 'THQ', 'Fox Interactive',\n",
       "       'Acclaim Entertainment', 'MTV Games', 'Disney Interactive Studios',\n",
       "       nan, 'Codemasters', 'Majesco Entertainment', 'Red Orb', 'Level 5',\n",
       "       'Arena Entertainment', 'Midway Games', 'JVC', 'Deep Silver',\n",
       "       'NCSoft', '989 Studios', 'UEP Systems', 'Parker Bros.', 'Maxis',\n",
       "       'Imagic', 'Tecmo Koei', 'ASCII Entertainment', 'Valve Software',\n",
       "       'Mindscape', 'Infogrames', 'Unknown', 'Square', 'Valve',\n",
       "       'Banpresto', 'Hello Games', 'D3Publisher', 'Activision Value',\n",
       "       'Oxygen Interactive', 'Red Storm Entertainment', 'Video System',\n",
       "       'Global Star', 'Gotham Games', 'Westwood Studios', 'GungHo',\n",
       "       'Crave Entertainment', 'Hudson Soft', 'Coleco',\n",
       "       'Rising Star Games', 'TDK Mediactive', 'ASC Games', 'Accolade',\n",
       "       'Zoo Games', 'Sony Online Entertainment', '3DO', 'Natsume', 'RTL',\n",
       "       'Alchemist', 'Black Label Games', 'SouthPeak Games',\n",
       "       'Focus Home Interactive', 'Ocean', 'Zoo Digital Publishing',\n",
       "       'Psygnosis', 'City Interactive', 'Empire Interactive', 'Success',\n",
       "       'Compile', 'Russel', 'Atlus', 'Mastertronic',\n",
       "       'Slightly Mad Studios', 'Taito', 'Agetec', 'Microprose', 'Play It',\n",
       "       'GSP', 'Tomy Corporation', 'Sammy Corporation', 'Koch Media',\n",
       "       'Game Factory', 'Titus', 'Marvelous Entertainment', 'Genki',\n",
       "       'Mojang', 'CTO SpA', 'TalonSoft', 'Crystal Dynamics', 'mixi, Inc',\n",
       "       'Pinnacle', 'SCi', 'Quelle', 'Rage Software', 'Ubisoft Annecy',\n",
       "       'Interplay', 'Scholastic Inc.', 'Mystique', 'ChunSoft',\n",
       "       'Square EA', '20th Century Fox Video Games',\n",
       "       'Hudson Entertainment', 'Men-A-Vision', 'Nobilis',\n",
       "       'Avanquest Software', 'Big Ben Interactive', 'Nordic Games',\n",
       "       'Touchstone', 'Spike', 'Nippon Ichi Software',\n",
       "       'Sony Computer Entertainment America', 'Jester Interactive',\n",
       "       'LEGO Media', 'Quest', 'Illusion Softworks', 'Tigervision',\n",
       "       'Rocket Company', 'Metro 3D', 'Mattel Interactive', 'IE Institute',\n",
       "       'Funbox Media', 'Rondomedia', 'Universal Gamex', 'Ghostlight',\n",
       "       'Wizard Video Games', 'BMG Interactive Entertainment', 'PQube',\n",
       "       'Trion Worlds', 'Xseed Games', 'Laguna', 'Takara',\n",
       "       'Ignition Entertainment', 'Kadokawa Shoten', 'Enterbrain',\n",
       "       'Imagineer', 'CPG Products', 'System 3 Arcade Software',\n",
       "       'Aruze Corp', 'Destineer', 'Gamebridge',\n",
       "       'Midas Interactive Entertainment', 'Jaleco', 'Answer Software',\n",
       "       'Pack In Soft', 'XS Games', 'Rebellion', 'Ultravision',\n",
       "       'Harmonix Music Systems', 'Activision Blizzard', 'Xplosiv',\n",
       "       'Wanadoo', 'Telltale Games', 'NovaLogic', 'Epoch',\n",
       "       'BAM! Entertainment', 'GameMill Entertainment',\n",
       "       'Knowledge Adventure', 'Tetris Online', 'Mastiff', 'ESP', 'TYO',\n",
       "       'Telegames', 'Mud Duck Productions', 'Screenlife', 'Pioneer LDC',\n",
       "       'Magical Company', 'Kemco', 'Mentor Interactive',\n",
       "       'Human Entertainment', 'Data Age', 'Electronic Arts Victor',\n",
       "       'Jack of All Games', 'Avanquest', 'Black Bean Games', '989 Sports',\n",
       "       'Takara Tomy', 'Media Rings', 'Elf', 'Starfish', 'Zushi Games',\n",
       "       'Jorudan', 'Destination Software, Inc', 'New',\n",
       "       'Brash Entertainment', 'Kalypso Media', 'ITT Family Games',\n",
       "       'Ackkstudios', 'PopCap Games', 'Starpath Corp.', 'BPS',\n",
       "       'Gathering of Developers', 'NewKidCo', 'Marvelous Interactive',\n",
       "       'Storm City Games', 'CokeM Interactive', 'P2 Games',\n",
       "       'CBS Electronics', 'Home Entertainment Suppliers', 'Magix',\n",
       "       'Arc System Works', 'Angel Studios', 'Wargaming.net', 'Playmates',\n",
       "       'SNK Playmore', 'Hamster Corporation', 'From Software',\n",
       "       'Nippon Columbia', 'Nichibutsu', 'Conspiracy Entertainment',\n",
       "       'Hect', 'Mumbo Jumbo', 'DTP Entertainment',\n",
       "       'Pacific Century Cyber Works', 'Indie Games', 'Liquid Games',\n",
       "       'NEC', 'Axela', 'ArtDink', 'Sunsoft', 'Little Orbit', 'FuRyu',\n",
       "       'Gust', 'SNK', 'NEC Interchannel', 'Nihon Falcom Corporation',\n",
       "       'Xing Entertainment', 'ValuSoft', 'Victor Interactive',\n",
       "       'American Softworks', 'Falcom Corporation', 'Detn8 Games', 'Bomb',\n",
       "       'Nordcurrent', 'Milestone S.r.l.', 'AQ Interactive', 'Sears',\n",
       "       'Seta Corporation', 'On Demand', 'CCP', 'NCS',\n",
       "       'Rebellion Developments', 'Agatsuma Entertainment',\n",
       "       'Gremlin Interactive Ltd', 'Aspyr', 'Compile Heart',\n",
       "       'Culture Brain', 'Mad Catz', 'Shogakukan', 'Merscom LLC',\n",
       "       'JoWood Productions', 'Nippon Telenet', 'TDK Core',\n",
       "       'Kadokawa Games', 'SSI', 'Foreign Media Games', 'Core Design Ltd.',\n",
       "       'bitComposer Games', 'Astragon', 'Asylum Entertainment',\n",
       "       'Performance Designed Products', 'UFO Interactive',\n",
       "       'Essential Games', 'Adeline Software', 'Funcom', 'PlayV',\n",
       "       'Panther Software', 'Blast! Entertainment Ltd',\n",
       "       'Playlogic Game Factory', 'DSI Games', 'Avalon Interactive',\n",
       "       'Game Life', 'Popcorn Arcade', 'Aques', 'System 3', 'Syscom',\n",
       "       'Vir2L Studios', 'Vatical Entertainment', 'Neko Entertainment',\n",
       "       'White Park Bay Software', 'Vic Tokai', 'Media Factory',\n",
       "       'Daedalic', 'Game Arts', 'The Adventure Company', 'EA Games',\n",
       "       'Acquire', 'Broccoli', 'General Entertainment',\n",
       "       'Paradox Interactive', 'Yacht Club Games', 'Imadio',\n",
       "       'Swing! Entertainment', 'Sony Music Entertainment', 'Aqua Plus',\n",
       "       'Excalibur Publishing', 'Hip Interactive', 'Tripwire Interactive',\n",
       "       'Bigben Interactive', 'Sting', 'Data East',\n",
       "       'Idea Factory International', 'Time Warner Interactive',\n",
       "       'Gainax Network Systems', 'Daito', 'O3 Entertainment', 'O-Games',\n",
       "       'Gameloft', 'Xicat Interactive', 'Simon & Schuster Interactive',\n",
       "       'Valcon Games', 'PopTop Software', 'TOHO', 'PM Studios',\n",
       "       'Bohemia Interactive', 'Reef Entertainment', '5pb',\n",
       "       'HMH Interactive', 'DreamCatcher Interactive',\n",
       "       'inXile Entertainment', 'Cave', 'Microids', 'Paon', 'Idea Factory',\n",
       "       'U.S. Gold', 'CDV Software Entertainment', 'Micro Cabin',\n",
       "       'GameTek', 'Benesse', 'Type-Moon', 'Enjoy Gaming ltd.', 'MTO',\n",
       "       'Asmik Corp', 'Interplay Productions', 'Asmik Ace Entertainment',\n",
       "       'Image Epoch', 'Phantom EFX', 'Evolved Games', 'responDESIGN',\n",
       "       'Data Design Interactive', 'Griffin International',\n",
       "       'Culture Publishers', 'Hackberry', 'HAL Laboratory', 'Aksys Games',\n",
       "       'Phenomedia', 'Grand Prix Games', 'Mercury Games', 'DigiCube',\n",
       "       'Creative Core', 'Gamecock', 'Kaga Create', 'Graffiti',\n",
       "       'WayForward Technologies', 'Pack-In-Video', 'LSP Games',\n",
       "       'ASCII Media Works', '1C Company', 'Coconuts Japan', 'Arika',\n",
       "       'Tivola', 'Marvel Entertainment', 'Ertain', 'Asgard', 'Prototype',\n",
       "       'Phantagram', 'The Learning Company', 'TechnoSoft', 'MLB.com',\n",
       "       'Irem Software Engineering', 'Vap', 'Misawa', 'Yeti',\n",
       "       'Dusenberry Martin Racing', 'Navarre Corp', 'Pow', 'MediaQuest',\n",
       "       'Team17 Software', 'Max Five', 'Tradewest', 'Happinet', 'Comfort',\n",
       "       'Milestone S.r.l', 'Pony Canyon', 'Riverhillsoft', 'Media Works',\n",
       "       'Summitsoft', 'Playmore', 'Kool Kizz', 'Monte Christo Multimedia',\n",
       "       'TopWare Interactive', 'Tommo', 'Slitherine Software',\n",
       "       'Legacy Interactive', 'Cloud Imperium Games Corporation',\n",
       "       'Flashpoint Games', 'Alternative Software',\n",
       "       'Ascaron Entertainment GmbH', 'CyberFront', 'Alawar Entertainment',\n",
       "       'Societa', 'DHM Interactive', 'Interchannel', 'Flight-Plan',\n",
       "       'Funsta', 'Experience Inc.', 'Sonnet', 'Virtual Play Games',\n",
       "       'Tru Blu Entertainment', 'Zenrin', 'Iceberg Interactive',\n",
       "       'Ivolgamus', 'MC2 Entertainment', '2D Boy', 'Games Workshop',\n",
       "       'Global A Entertainment', 'Kando Games', 'Office Create',\n",
       "       'Daedalic Entertainment', 'Maximum Family Games', 'Fields',\n",
       "       'Gearbox Software', 'Princess Soft', 'Extreme Entertainment Group',\n",
       "       'Big Fish Games', 'Berkeley', 'Mamba Games', 'Fuji',\n",
       "       'FuRyu Corporation', 'Her Interactive', 'imageepoch Inc.',\n",
       "       'Just Flight', 'Myelin Media', 'Kamui', 'ASK', 'Insomniac Games',\n",
       "       'Cygames', 'Introversion Software', '49Games', 'KSS',\n",
       "       'dramatic create', 'TGL', 'KID', 'Quinrose', 'Sold Out', 'Encore',\n",
       "       'G.Rev', 'Sunflowers', 'Headup Games', 'Sweets',\n",
       "       'Kokopeli Digital Studios', 'id Software', 'Nexon',\n",
       "       '10TACLE Studios', 'BushiRoad', 'Devolver Digital', 'Number None',\n",
       "       'Tryfirst', 'GN Software', \"Yuke's\", 'Strategy First',\n",
       "       'Lexicon Entertainment', 'Groove Games', 'Paon Corporation',\n",
       "       'Kids Station', 'Licensed 4U', 'Edia', 'GOA', '7G//AMES',\n",
       "       'King Records', 'Minato Station', 'Graphsim Entertainment',\n",
       "       'Easy Interactive', 'Gaga', 'Yamasa Entertainment', 'Plenty',\n",
       "       'Views', 'Blue Byte', 'fonfun', 'NetRevo', 'Epic Games', 'Quintet',\n",
       "       'Focus Multimedia', 'Phoenix Games', 'Marvelous Games', 'Dorart',\n",
       "       'Codemasters Online', 'Stainless Games', 'Athena', 'Aerosoft',\n",
       "       'Imageworks', 'Karin Entertainment', 'Technos Japan Corporation',\n",
       "       'Masque Publishing', 'Gakken', 'New World Computing',\n",
       "       'Sunrise Interactive', 'Mirai Shounen', 'Datam Polystar', 'HuneX',\n",
       "       'Revolution Software', 'Visco', 'Saurus', 'Revolution (Japan)',\n",
       "       'Giza10', 'Alvion', 'Giga', 'Mycom', 'Crimson Cow', 'Warashi',\n",
       "       'System Soft', 'RED Entertainment', 'Lighthouse Interactive',\n",
       "       'Michaelsoft', 'Media Entertainment', 'Genterprise',\n",
       "       'Interworks Unlimited, Inc.', 'Inti Creates', 'Boost On', 'Moss',\n",
       "       'EON Digital Entertainment', 'Nitroplus', 'Naxat Soft', 'Piacci',\n",
       "       'Paradox Development', 'Otomate', 'Ascaron Entertainment',\n",
       "       'Ongakukan', 'Commseed', 'UIG Entertainment', 'Takuyo',\n",
       "       'Interchannel-Holon', 'Red Flagship', 'SCS Software',\n",
       "       'Havas Interactive', 'Telstar', 'DreamWorks Interactive', 'Crytek',\n",
       "       'FunSoft', 'SPS', 'T&E Soft', 'NDA Productions', 'Hearty Robin',\n",
       "       'Nippon Amuse', 'Origin Systems', 'Seventh Chord', 'Abylight',\n",
       "       'Mitsui', 'Milestone', 'Glams', 'Locus', 'Warp', 'Elite',\n",
       "       'Evolution Games', 'Aria', 'Altron', 'Fortyfive', 'Imax', 'iWin',\n",
       "       'Ecole', 'Yumedia'], dtype=object)"
      ]
     },
     "execution_count": 25,
     "metadata": {},
     "output_type": "execute_result"
    }
   ],
   "source": [
    "Data.Publisher.unique()"
   ]
  },
  {
   "cell_type": "code",
   "execution_count": 26,
   "id": "0db84bda",
   "metadata": {},
   "outputs": [
    {
     "data": {
      "text/plain": [
       "54"
      ]
     },
     "execution_count": 26,
     "metadata": {},
     "output_type": "execute_result"
    }
   ],
   "source": [
    "Data.Publisher.isnull().sum()"
   ]
  },
  {
   "cell_type": "code",
   "execution_count": 27,
   "id": "e3e43b2d",
   "metadata": {},
   "outputs": [],
   "source": [
    "l = dict(Data.Name[Data.Publisher.isnull()])"
   ]
  },
  {
   "cell_type": "code",
   "execution_count": 28,
   "id": "53d1f5e3",
   "metadata": {},
   "outputs": [
    {
     "data": {
      "text/plain": [
       "{475: 'wwe Smackdown vs. Raw 2006',\n",
       " 1301: 'Triple Play 99',\n",
       " 1667: 'Shrek / Shrek 2 2-in-1 Gameboy Advance Video',\n",
       " 2212: \"Bentley's Hackpack\",\n",
       " 3148: 'Nicktoons Collection: Game Boy Advance Video Volume 1',\n",
       " 3159: 'SpongeBob SquarePants: Game Boy Advance Video Volume 1',\n",
       " 3755: 'SpongeBob SquarePants: Game Boy Advance Video Volume 2',\n",
       " 4127: 'Sonic the Hedgehog',\n",
       " 4508: 'The Fairly Odd Parents: Game Boy Advance Video Volume 1',\n",
       " 4615: 'The Fairly Odd Parents: Game Boy Advance Video Volume 2',\n",
       " 5294: 'Dragon Ball Z: Budokai Tenkaichi 2 (JP sales)',\n",
       " 5633: 'Cartoon Network Collection: Game Boy Advance Video Platinum Edition',\n",
       " 6256: 'The Legend of Zelda: The Minish Cap(weekly JP sales)',\n",
       " 6415: 'Sonic X: Game Boy Advance Video Volume 1',\n",
       " 6532: 'Dora the Explorer: Game Boy Advance Video Volume 1',\n",
       " 6626: 'Cartoon Network Collection: Game Boy Advance Video Volume 1',\n",
       " 6831: 'All Grown Up!: Game Boy Advance Video Volume 1',\n",
       " 7189: 'Nicktoons Collection: Game Boy Advance Video Volume 2',\n",
       " 7333: 'Yu Yu Hakusho: Dark Tournament',\n",
       " 7477: 'SpongeBob SquarePants: Game Boy Advance Video Volume 3',\n",
       " 7930: 'Thomas the Tank Engine & Friends',\n",
       " 8317: 'Dragon Ball GT: Game Boy Advance Video Volume 1',\n",
       " 8328: 'Codename: Kids Next Door: Game Boy Advance Video Volume 1',\n",
       " 8358: 'Teenage Mutant Ninja Turtles: Game Boy Advance Video Volume 1',\n",
       " 8494: 'Stronghold 3',\n",
       " 8754: 'Cartoon Network Collection: Game Boy Advance Video Special Edition',\n",
       " 8837: 'Pokémon: Johto Photo Finish: Game Boy Advance Video',\n",
       " 8883: 'Strawberry Shortcake: Game Boy Advance Video Volume 1',\n",
       " 9703: 'Disney Channel Collection Vol. 1',\n",
       " 9812: 'Atsumare! Power Pro Kun no DS Koushien',\n",
       " 10418: 'Action Man-Operation Extreme',\n",
       " 11175: 'Monster Hunter Frontier Online',\n",
       " 11569: 'B.L.U.E.: Legend of Water',\n",
       " 11985: 'Housekeeping',\n",
       " 12209: 'Bikkuriman Daijiten',\n",
       " 12544: 'World of Tanks',\n",
       " 12629: 'UK Truck Simulator',\n",
       " 12881: 'Umineko no Naku Koro ni San: Shinjitsu to Gensou no Yasoukyoku',\n",
       " 13197: 'Mario Tennis',\n",
       " 13274: 'Nicktoons Collection: Game Boy Advance Video Volume 3',\n",
       " 13299: 'Demolition Company: Gold Edition',\n",
       " 13537: 'Moshi, Kono Sekai ni Kami-sama ga Iru to suru Naraba.',\n",
       " 13876: 'Dream Dancer',\n",
       " 14137: 'Homeworld Remastered Collection',\n",
       " 14153: 'AKB1/48: Idol to Guam de Koishitara...',\n",
       " 14163: 'Super Robot Monkey Team: Game Boy Advance Video Volume 1',\n",
       " 14189: 'Brothers in Arms: Furious 4',\n",
       " 14196: 'Dance with Devils',\n",
       " 14519: 'Driving Simulator 2011',\n",
       " 14747: 'Farming Simulator 2011',\n",
       " 14975: 'Super Robot Wars OG Saga: Masou Kishin II - Revelation of Evil God',\n",
       " 15621: 'Cartoon Network Collection: Game Boy Advance Video Volume 2',\n",
       " 16600: 'Chou Soujuu Mecha MG',\n",
       " 16644: 'Prinny: Can I Really Be The Hero? (US sales)'}"
      ]
     },
     "execution_count": 28,
     "metadata": {},
     "output_type": "execute_result"
    }
   ],
   "source": [
    "l"
   ]
  },
  {
   "cell_type": "code",
   "execution_count": 29,
   "id": "0a6b657b",
   "metadata": {},
   "outputs": [
    {
     "name": "stderr",
     "output_type": "stream",
     "text": [
      "C:\\Users\\Admin\\AppData\\Local\\Temp/ipykernel_12912/1457524211.py:1: SettingWithCopyWarning: \n",
      "A value is trying to be set on a copy of a slice from a DataFrame\n",
      "\n",
      "See the caveats in the documentation: https://pandas.pydata.org/pandas-docs/stable/user_guide/indexing.html#returning-a-view-versus-a-copy\n",
      "  Data.Publisher[Data.Name==l[475]] = \"THQ\"\n",
      "C:\\Users\\Admin\\AppData\\Local\\Temp/ipykernel_12912/1457524211.py:2: SettingWithCopyWarning: \n",
      "A value is trying to be set on a copy of a slice from a DataFrame\n",
      "\n",
      "See the caveats in the documentation: https://pandas.pydata.org/pandas-docs/stable/user_guide/indexing.html#returning-a-view-versus-a-copy\n",
      "  Data.Publisher[Data.Name==l[1301]] = \"Electronic Arts\"\n",
      "C:\\Users\\Admin\\AppData\\Local\\Temp/ipykernel_12912/1457524211.py:3: SettingWithCopyWarning: \n",
      "A value is trying to be set on a copy of a slice from a DataFrame\n",
      "\n",
      "See the caveats in the documentation: https://pandas.pydata.org/pandas-docs/stable/user_guide/indexing.html#returning-a-view-versus-a-copy\n",
      "  Data.Publisher[Data.Name==l[1667]] = \"Take-Two Interactive\"\n",
      "C:\\Users\\Admin\\AppData\\Local\\Temp/ipykernel_12912/1457524211.py:4: SettingWithCopyWarning: \n",
      "A value is trying to be set on a copy of a slice from a DataFrame\n",
      "\n",
      "See the caveats in the documentation: https://pandas.pydata.org/pandas-docs/stable/user_guide/indexing.html#returning-a-view-versus-a-copy\n",
      "  Data.Publisher[Data.Name==l[2212]] = \"Sony Computer Entertainment\"\n",
      "C:\\Users\\Admin\\AppData\\Local\\Temp/ipykernel_12912/1457524211.py:5: SettingWithCopyWarning: \n",
      "A value is trying to be set on a copy of a slice from a DataFrame\n",
      "\n",
      "See the caveats in the documentation: https://pandas.pydata.org/pandas-docs/stable/user_guide/indexing.html#returning-a-view-versus-a-copy\n",
      "  Data.Publisher[Data.Name==l[3148]] = \"Majesco Entertainment\"\n",
      "C:\\Users\\Admin\\AppData\\Local\\Temp/ipykernel_12912/1457524211.py:6: SettingWithCopyWarning: \n",
      "A value is trying to be set on a copy of a slice from a DataFrame\n",
      "\n",
      "See the caveats in the documentation: https://pandas.pydata.org/pandas-docs/stable/user_guide/indexing.html#returning-a-view-versus-a-copy\n",
      "  Data.Publisher[Data.Name==l[3159]] = \"Majesco Entertainment\"\n",
      "C:\\Users\\Admin\\AppData\\Local\\Temp/ipykernel_12912/1457524211.py:7: SettingWithCopyWarning: \n",
      "A value is trying to be set on a copy of a slice from a DataFrame\n",
      "\n",
      "See the caveats in the documentation: https://pandas.pydata.org/pandas-docs/stable/user_guide/indexing.html#returning-a-view-versus-a-copy\n",
      "  Data.Publisher[Data.Name==l[3755]] = \"Majesco Entertainment\"\n",
      "C:\\Users\\Admin\\AppData\\Local\\Temp/ipykernel_12912/1457524211.py:8: SettingWithCopyWarning: \n",
      "A value is trying to be set on a copy of a slice from a DataFrame\n",
      "\n",
      "See the caveats in the documentation: https://pandas.pydata.org/pandas-docs/stable/user_guide/indexing.html#returning-a-view-versus-a-copy\n",
      "  Data.Publisher[Data.Name==l[4127]] = \"Sega\"\n",
      "C:\\Users\\Admin\\AppData\\Local\\Temp/ipykernel_12912/1457524211.py:9: SettingWithCopyWarning: \n",
      "A value is trying to be set on a copy of a slice from a DataFrame\n",
      "\n",
      "See the caveats in the documentation: https://pandas.pydata.org/pandas-docs/stable/user_guide/indexing.html#returning-a-view-versus-a-copy\n",
      "  Data.Publisher[Data.Name==l[4508]] = \"THQ\"\n",
      "C:\\Users\\Admin\\AppData\\Local\\Temp/ipykernel_12912/1457524211.py:10: SettingWithCopyWarning: \n",
      "A value is trying to be set on a copy of a slice from a DataFrame\n",
      "\n",
      "See the caveats in the documentation: https://pandas.pydata.org/pandas-docs/stable/user_guide/indexing.html#returning-a-view-versus-a-copy\n",
      "  Data.Publisher[Data.Name==l[4615]] = \"THQ\"\n",
      "C:\\Users\\Admin\\AppData\\Local\\Temp/ipykernel_12912/1457524211.py:11: SettingWithCopyWarning: \n",
      "A value is trying to be set on a copy of a slice from a DataFrame\n",
      "\n",
      "See the caveats in the documentation: https://pandas.pydata.org/pandas-docs/stable/user_guide/indexing.html#returning-a-view-versus-a-copy\n",
      "  Data.Publisher[Data.Name==l[5294]] = \"Nintendo\"\n",
      "C:\\Users\\Admin\\AppData\\Local\\Temp/ipykernel_12912/1457524211.py:12: SettingWithCopyWarning: \n",
      "A value is trying to be set on a copy of a slice from a DataFrame\n",
      "\n",
      "See the caveats in the documentation: https://pandas.pydata.org/pandas-docs/stable/user_guide/indexing.html#returning-a-view-versus-a-copy\n",
      "  Data.Publisher[Data.Name==l[5633]] = \"Majesco Entertainment\"\n",
      "C:\\Users\\Admin\\AppData\\Local\\Temp/ipykernel_12912/1457524211.py:13: SettingWithCopyWarning: \n",
      "A value is trying to be set on a copy of a slice from a DataFrame\n",
      "\n",
      "See the caveats in the documentation: https://pandas.pydata.org/pandas-docs/stable/user_guide/indexing.html#returning-a-view-versus-a-copy\n",
      "  Data.Publisher[Data.Name==l[6256]] = \"Nintendo\"\n",
      "C:\\Users\\Admin\\AppData\\Local\\Temp/ipykernel_12912/1457524211.py:14: SettingWithCopyWarning: \n",
      "A value is trying to be set on a copy of a slice from a DataFrame\n",
      "\n",
      "See the caveats in the documentation: https://pandas.pydata.org/pandas-docs/stable/user_guide/indexing.html#returning-a-view-versus-a-copy\n",
      "  Data.Publisher[Data.Name==l[6415]] = \"Majesco Entertainment\"\n",
      "C:\\Users\\Admin\\AppData\\Local\\Temp/ipykernel_12912/1457524211.py:15: SettingWithCopyWarning: \n",
      "A value is trying to be set on a copy of a slice from a DataFrame\n",
      "\n",
      "See the caveats in the documentation: https://pandas.pydata.org/pandas-docs/stable/user_guide/indexing.html#returning-a-view-versus-a-copy\n",
      "  Data.Publisher[Data.Name==l[6532]] = \"Gotham Games\"\n",
      "C:\\Users\\Admin\\AppData\\Local\\Temp/ipykernel_12912/1457524211.py:16: SettingWithCopyWarning: \n",
      "A value is trying to be set on a copy of a slice from a DataFrame\n",
      "\n",
      "See the caveats in the documentation: https://pandas.pydata.org/pandas-docs/stable/user_guide/indexing.html#returning-a-view-versus-a-copy\n",
      "  Data.Publisher[Data.Name==l[6626]] = \"Nintendo\"\n",
      "C:\\Users\\Admin\\AppData\\Local\\Temp/ipykernel_12912/1457524211.py:17: SettingWithCopyWarning: \n",
      "A value is trying to be set on a copy of a slice from a DataFrame\n",
      "\n",
      "See the caveats in the documentation: https://pandas.pydata.org/pandas-docs/stable/user_guide/indexing.html#returning-a-view-versus-a-copy\n",
      "  Data.Publisher[Data.Name==l[6831]] = \"THQ\"\n",
      "C:\\Users\\Admin\\AppData\\Local\\Temp/ipykernel_12912/1457524211.py:18: SettingWithCopyWarning: \n",
      "A value is trying to be set on a copy of a slice from a DataFrame\n",
      "\n",
      "See the caveats in the documentation: https://pandas.pydata.org/pandas-docs/stable/user_guide/indexing.html#returning-a-view-versus-a-copy\n",
      "  Data.Publisher[Data.Name==l[7189]] = \"Nintendo\"\n",
      "C:\\Users\\Admin\\AppData\\Local\\Temp/ipykernel_12912/1457524211.py:19: SettingWithCopyWarning: \n",
      "A value is trying to be set on a copy of a slice from a DataFrame\n",
      "\n",
      "See the caveats in the documentation: https://pandas.pydata.org/pandas-docs/stable/user_guide/indexing.html#returning-a-view-versus-a-copy\n",
      "  Data.Publisher[Data.Name==l[7333]] = \"Atari\"\n",
      "C:\\Users\\Admin\\AppData\\Local\\Temp/ipykernel_12912/1457524211.py:20: SettingWithCopyWarning: \n",
      "A value is trying to be set on a copy of a slice from a DataFrame\n",
      "\n",
      "See the caveats in the documentation: https://pandas.pydata.org/pandas-docs/stable/user_guide/indexing.html#returning-a-view-versus-a-copy\n",
      "  Data.Publisher[Data.Name==l[7477]] = \"Nintendo\"\n",
      "C:\\Users\\Admin\\AppData\\Local\\Temp/ipykernel_12912/1457524211.py:21: SettingWithCopyWarning: \n",
      "A value is trying to be set on a copy of a slice from a DataFrame\n",
      "\n",
      "See the caveats in the documentation: https://pandas.pydata.org/pandas-docs/stable/user_guide/indexing.html#returning-a-view-versus-a-copy\n",
      "  Data.Publisher[Data.Name==l[7930]] = \"THQ\"\n",
      "C:\\Users\\Admin\\AppData\\Local\\Temp/ipykernel_12912/1457524211.py:22: SettingWithCopyWarning: \n",
      "A value is trying to be set on a copy of a slice from a DataFrame\n",
      "\n",
      "See the caveats in the documentation: https://pandas.pydata.org/pandas-docs/stable/user_guide/indexing.html#returning-a-view-versus-a-copy\n",
      "  Data.Publisher[Data.Name==l[8317]]=\"Nintendo\"\n",
      "C:\\Users\\Admin\\AppData\\Local\\Temp/ipykernel_12912/1457524211.py:23: SettingWithCopyWarning: \n",
      "A value is trying to be set on a copy of a slice from a DataFrame\n",
      "\n",
      "See the caveats in the documentation: https://pandas.pydata.org/pandas-docs/stable/user_guide/indexing.html#returning-a-view-versus-a-copy\n",
      "  Data.Publisher[Data.Name==l[8328]]=\"Global Star\"\n",
      "C:\\Users\\Admin\\AppData\\Local\\Temp/ipykernel_12912/1457524211.py:24: SettingWithCopyWarning: \n",
      "A value is trying to be set on a copy of a slice from a DataFrame\n",
      "\n",
      "See the caveats in the documentation: https://pandas.pydata.org/pandas-docs/stable/user_guide/indexing.html#returning-a-view-versus-a-copy\n",
      "  Data.Publisher[Data.Name==l[8358]]=\"Konami Digital Entertainment\"\n",
      "C:\\Users\\Admin\\AppData\\Local\\Temp/ipykernel_12912/1457524211.py:25: SettingWithCopyWarning: \n",
      "A value is trying to be set on a copy of a slice from a DataFrame\n",
      "\n",
      "See the caveats in the documentation: https://pandas.pydata.org/pandas-docs/stable/user_guide/indexing.html#returning-a-view-versus-a-copy\n",
      "  Data.Publisher[Data.Name==l[8494]]=\"Unknown\"\n",
      "C:\\Users\\Admin\\AppData\\Local\\Temp/ipykernel_12912/1457524211.py:26: SettingWithCopyWarning: \n",
      "A value is trying to be set on a copy of a slice from a DataFrame\n",
      "\n",
      "See the caveats in the documentation: https://pandas.pydata.org/pandas-docs/stable/user_guide/indexing.html#returning-a-view-versus-a-copy\n",
      "  Data.Publisher[Data.Name==l[8754]]=\"Majesco Entertainment\"\n",
      "C:\\Users\\Admin\\AppData\\Local\\Temp/ipykernel_12912/1457524211.py:27: SettingWithCopyWarning: \n",
      "A value is trying to be set on a copy of a slice from a DataFrame\n",
      "\n",
      "See the caveats in the documentation: https://pandas.pydata.org/pandas-docs/stable/user_guide/indexing.html#returning-a-view-versus-a-copy\n",
      "  Data.Publisher[Data.Name==l[8837]]=\"Nintendo\"\n",
      "C:\\Users\\Admin\\AppData\\Local\\Temp/ipykernel_12912/1457524211.py:28: SettingWithCopyWarning: \n",
      "A value is trying to be set on a copy of a slice from a DataFrame\n",
      "\n",
      "See the caveats in the documentation: https://pandas.pydata.org/pandas-docs/stable/user_guide/indexing.html#returning-a-view-versus-a-copy\n",
      "  Data.Publisher[Data.Name==l[8883]]=\"Nintendo\"\n",
      "C:\\Users\\Admin\\AppData\\Local\\Temp/ipykernel_12912/1457524211.py:29: SettingWithCopyWarning: \n",
      "A value is trying to be set on a copy of a slice from a DataFrame\n",
      "\n",
      "See the caveats in the documentation: https://pandas.pydata.org/pandas-docs/stable/user_guide/indexing.html#returning-a-view-versus-a-copy\n",
      "  Data.Publisher[Data.Name==l[9703]]=\"Majesco Entertainment\"\n",
      "C:\\Users\\Admin\\AppData\\Local\\Temp/ipykernel_12912/1457524211.py:30: SettingWithCopyWarning: \n",
      "A value is trying to be set on a copy of a slice from a DataFrame\n",
      "\n",
      "See the caveats in the documentation: https://pandas.pydata.org/pandas-docs/stable/user_guide/indexing.html#returning-a-view-versus-a-copy\n",
      "  Data.Publisher[Data.Name==l[9812]]=\"Konami Digital Entertainment\"\n",
      "C:\\Users\\Admin\\AppData\\Local\\Temp/ipykernel_12912/1457524211.py:31: SettingWithCopyWarning: \n",
      "A value is trying to be set on a copy of a slice from a DataFrame\n",
      "\n",
      "See the caveats in the documentation: https://pandas.pydata.org/pandas-docs/stable/user_guide/indexing.html#returning-a-view-versus-a-copy\n",
      "  Data.Publisher[Data.Name==l[10418]]=\"Habro Interactive\"\n",
      "C:\\Users\\Admin\\AppData\\Local\\Temp/ipykernel_12912/1457524211.py:32: SettingWithCopyWarning: \n",
      "A value is trying to be set on a copy of a slice from a DataFrame\n",
      "\n",
      "See the caveats in the documentation: https://pandas.pydata.org/pandas-docs/stable/user_guide/indexing.html#returning-a-view-versus-a-copy\n",
      "  Data.Publisher[Data.Name==l[11175]]=\"Microsoft Game Studios\"\n",
      "C:\\Users\\Admin\\AppData\\Local\\Temp/ipykernel_12912/1457524211.py:33: SettingWithCopyWarning: \n",
      "A value is trying to be set on a copy of a slice from a DataFrame\n",
      "\n",
      "See the caveats in the documentation: https://pandas.pydata.org/pandas-docs/stable/user_guide/indexing.html#returning-a-view-versus-a-copy\n",
      "  Data.Publisher[Data.Name==l[11569]]=\"Hudson soft\"\n",
      "C:\\Users\\Admin\\AppData\\Local\\Temp/ipykernel_12912/1457524211.py:34: SettingWithCopyWarning: \n",
      "A value is trying to be set on a copy of a slice from a DataFrame\n",
      "\n",
      "See the caveats in the documentation: https://pandas.pydata.org/pandas-docs/stable/user_guide/indexing.html#returning-a-view-versus-a-copy\n",
      "  Data.Publisher[Data.Name==l[11985]]=\"Unknown\"\n",
      "C:\\Users\\Admin\\AppData\\Local\\Temp/ipykernel_12912/1457524211.py:35: SettingWithCopyWarning: \n",
      "A value is trying to be set on a copy of a slice from a DataFrame\n",
      "\n",
      "See the caveats in the documentation: https://pandas.pydata.org/pandas-docs/stable/user_guide/indexing.html#returning-a-view-versus-a-copy\n",
      "  Data.Publisher[Data.Name==l[12209]]=\"Nintendo\"\n",
      "C:\\Users\\Admin\\AppData\\Local\\Temp/ipykernel_12912/1457524211.py:36: SettingWithCopyWarning: \n",
      "A value is trying to be set on a copy of a slice from a DataFrame\n",
      "\n",
      "See the caveats in the documentation: https://pandas.pydata.org/pandas-docs/stable/user_guide/indexing.html#returning-a-view-versus-a-copy\n",
      "  Data.Publisher[Data.Name==l[12544]]=\"Wargaming.net\"\n",
      "C:\\Users\\Admin\\AppData\\Local\\Temp/ipykernel_12912/1457524211.py:37: SettingWithCopyWarning: \n",
      "A value is trying to be set on a copy of a slice from a DataFrame\n",
      "\n",
      "See the caveats in the documentation: https://pandas.pydata.org/pandas-docs/stable/user_guide/indexing.html#returning-a-view-versus-a-copy\n",
      "  Data.Publisher[Data.Name==l[12629]]=\"Nintendo\"\n",
      "C:\\Users\\Admin\\AppData\\Local\\Temp/ipykernel_12912/1457524211.py:38: SettingWithCopyWarning: \n",
      "A value is trying to be set on a copy of a slice from a DataFrame\n",
      "\n",
      "See the caveats in the documentation: https://pandas.pydata.org/pandas-docs/stable/user_guide/indexing.html#returning-a-view-versus-a-copy\n",
      "  Data.Publisher[Data.Name==l[12881]]=\"Sony Computer Entertainment\"\n",
      "C:\\Users\\Admin\\AppData\\Local\\Temp/ipykernel_12912/1457524211.py:39: SettingWithCopyWarning: \n",
      "A value is trying to be set on a copy of a slice from a DataFrame\n",
      "\n",
      "See the caveats in the documentation: https://pandas.pydata.org/pandas-docs/stable/user_guide/indexing.html#returning-a-view-versus-a-copy\n",
      "  Data.Publisher[Data.Name==l[13197]] = \"Nintendo\"\n",
      "C:\\Users\\Admin\\AppData\\Local\\Temp/ipykernel_12912/1457524211.py:40: SettingWithCopyWarning: \n",
      "A value is trying to be set on a copy of a slice from a DataFrame\n",
      "\n",
      "See the caveats in the documentation: https://pandas.pydata.org/pandas-docs/stable/user_guide/indexing.html#returning-a-view-versus-a-copy\n",
      "  Data.Publisher[Data.Name==l[13274]] = \"Nintendo\"\n",
      "C:\\Users\\Admin\\AppData\\Local\\Temp/ipykernel_12912/1457524211.py:41: SettingWithCopyWarning: \n",
      "A value is trying to be set on a copy of a slice from a DataFrame\n",
      "\n",
      "See the caveats in the documentation: https://pandas.pydata.org/pandas-docs/stable/user_guide/indexing.html#returning-a-view-versus-a-copy\n",
      "  Data.Publisher[Data.Name==l[13299]] = \"Nintendo\"\n",
      "C:\\Users\\Admin\\AppData\\Local\\Temp/ipykernel_12912/1457524211.py:42: SettingWithCopyWarning: \n",
      "A value is trying to be set on a copy of a slice from a DataFrame\n",
      "\n",
      "See the caveats in the documentation: https://pandas.pydata.org/pandas-docs/stable/user_guide/indexing.html#returning-a-view-versus-a-copy\n",
      "  Data.Publisher[Data.Name==l[13537]] = \"Rejet\"\n",
      "C:\\Users\\Admin\\AppData\\Local\\Temp/ipykernel_12912/1457524211.py:43: SettingWithCopyWarning: \n",
      "A value is trying to be set on a copy of a slice from a DataFrame\n",
      "\n",
      "See the caveats in the documentation: https://pandas.pydata.org/pandas-docs/stable/user_guide/indexing.html#returning-a-view-versus-a-copy\n",
      "  Data.Publisher[Data.Name==l[13876]] = \"Zoo Games\"\n",
      "C:\\Users\\Admin\\AppData\\Local\\Temp/ipykernel_12912/1457524211.py:44: SettingWithCopyWarning: \n",
      "A value is trying to be set on a copy of a slice from a DataFrame\n",
      "\n",
      "See the caveats in the documentation: https://pandas.pydata.org/pandas-docs/stable/user_guide/indexing.html#returning-a-view-versus-a-copy\n",
      "  Data.Publisher[Data.Name==l[14137]] = \"Gearbox Software\"\n",
      "C:\\Users\\Admin\\AppData\\Local\\Temp/ipykernel_12912/1457524211.py:45: SettingWithCopyWarning: \n",
      "A value is trying to be set on a copy of a slice from a DataFrame\n",
      "\n",
      "See the caveats in the documentation: https://pandas.pydata.org/pandas-docs/stable/user_guide/indexing.html#returning-a-view-versus-a-copy\n",
      "  Data.Publisher[Data.Name==l[14153]] = \"Unknown\"\n",
      "C:\\Users\\Admin\\AppData\\Local\\Temp/ipykernel_12912/1457524211.py:46: SettingWithCopyWarning: \n",
      "A value is trying to be set on a copy of a slice from a DataFrame\n",
      "\n",
      "See the caveats in the documentation: https://pandas.pydata.org/pandas-docs/stable/user_guide/indexing.html#returning-a-view-versus-a-copy\n",
      "  Data.Publisher[Data.Name==l[14163]] = \"Majesco Entertainment\"\n",
      "C:\\Users\\Admin\\AppData\\Local\\Temp/ipykernel_12912/1457524211.py:47: SettingWithCopyWarning: \n",
      "A value is trying to be set on a copy of a slice from a DataFrame\n",
      "\n",
      "See the caveats in the documentation: https://pandas.pydata.org/pandas-docs/stable/user_guide/indexing.html#returning-a-view-versus-a-copy\n",
      "  Data.Publisher[Data.Name==l[14189]] = \"Ubisoft\"\n",
      "C:\\Users\\Admin\\AppData\\Local\\Temp/ipykernel_12912/1457524211.py:48: SettingWithCopyWarning: \n",
      "A value is trying to be set on a copy of a slice from a DataFrame\n",
      "\n",
      "See the caveats in the documentation: https://pandas.pydata.org/pandas-docs/stable/user_guide/indexing.html#returning-a-view-versus-a-copy\n",
      "  Data.Publisher[Data.Name==l[14196]] = \"Unknown\"\n",
      "C:\\Users\\Admin\\AppData\\Local\\Temp/ipykernel_12912/1457524211.py:49: SettingWithCopyWarning: \n",
      "A value is trying to be set on a copy of a slice from a DataFrame\n",
      "\n",
      "See the caveats in the documentation: https://pandas.pydata.org/pandas-docs/stable/user_guide/indexing.html#returning-a-view-versus-a-copy\n",
      "  Data.Publisher[Data.Name==l[14519]] = \"Excalibur publishing\"\n",
      "C:\\Users\\Admin\\AppData\\Local\\Temp/ipykernel_12912/1457524211.py:50: SettingWithCopyWarning: \n",
      "A value is trying to be set on a copy of a slice from a DataFrame\n",
      "\n",
      "See the caveats in the documentation: https://pandas.pydata.org/pandas-docs/stable/user_guide/indexing.html#returning-a-view-versus-a-copy\n",
      "  Data.Publisher[Data.Name==l[14747]] = \"Unknown\"\n",
      "C:\\Users\\Admin\\AppData\\Local\\Temp/ipykernel_12912/1457524211.py:51: SettingWithCopyWarning: \n",
      "A value is trying to be set on a copy of a slice from a DataFrame\n",
      "\n",
      "See the caveats in the documentation: https://pandas.pydata.org/pandas-docs/stable/user_guide/indexing.html#returning-a-view-versus-a-copy\n",
      "  Data.Publisher[Data.Name==l[14975]] = \"Unknown\"\n",
      "C:\\Users\\Admin\\AppData\\Local\\Temp/ipykernel_12912/1457524211.py:52: SettingWithCopyWarning: \n",
      "A value is trying to be set on a copy of a slice from a DataFrame\n",
      "\n",
      "See the caveats in the documentation: https://pandas.pydata.org/pandas-docs/stable/user_guide/indexing.html#returning-a-view-versus-a-copy\n",
      "  Data.Publisher[Data.Name==l[15621]] = \"Majesco Entertainment\"\n",
      "C:\\Users\\Admin\\AppData\\Local\\Temp/ipykernel_12912/1457524211.py:53: SettingWithCopyWarning: \n",
      "A value is trying to be set on a copy of a slice from a DataFrame\n",
      "\n",
      "See the caveats in the documentation: https://pandas.pydata.org/pandas-docs/stable/user_guide/indexing.html#returning-a-view-versus-a-copy\n",
      "  Data.Publisher[Data.Name==l[16600]] = \"Nintendo\"\n",
      "C:\\Users\\Admin\\AppData\\Local\\Temp/ipykernel_12912/1457524211.py:54: SettingWithCopyWarning: \n",
      "A value is trying to be set on a copy of a slice from a DataFrame\n",
      "\n",
      "See the caveats in the documentation: https://pandas.pydata.org/pandas-docs/stable/user_guide/indexing.html#returning-a-view-versus-a-copy\n",
      "  Data.Publisher[Data.Name==l[16644]] = \"Nintendo\"\n"
     ]
    }
   ],
   "source": [
    "Data.Publisher[Data.Name==l[475]] = \"THQ\"\n",
    "Data.Publisher[Data.Name==l[1301]] = \"Electronic Arts\"\n",
    "Data.Publisher[Data.Name==l[1667]] = \"Take-Two Interactive\"\n",
    "Data.Publisher[Data.Name==l[2212]] = \"Sony Computer Entertainment\"\n",
    "Data.Publisher[Data.Name==l[3148]] = \"Majesco Entertainment\"\n",
    "Data.Publisher[Data.Name==l[3159]] = \"Majesco Entertainment\"\n",
    "Data.Publisher[Data.Name==l[3755]] = \"Majesco Entertainment\"\n",
    "Data.Publisher[Data.Name==l[4127]] = \"Sega\"\n",
    "Data.Publisher[Data.Name==l[4508]] = \"THQ\"\n",
    "Data.Publisher[Data.Name==l[4615]] = \"THQ\"\n",
    "Data.Publisher[Data.Name==l[5294]] = \"Nintendo\"\n",
    "Data.Publisher[Data.Name==l[5633]] = \"Majesco Entertainment\"\n",
    "Data.Publisher[Data.Name==l[6256]] = \"Nintendo\"\n",
    "Data.Publisher[Data.Name==l[6415]] = \"Majesco Entertainment\"\n",
    "Data.Publisher[Data.Name==l[6532]] = \"Gotham Games\"\n",
    "Data.Publisher[Data.Name==l[6626]] = \"Nintendo\"\n",
    "Data.Publisher[Data.Name==l[6831]] = \"THQ\"\n",
    "Data.Publisher[Data.Name==l[7189]] = \"Nintendo\"\n",
    "Data.Publisher[Data.Name==l[7333]] = \"Atari\"\n",
    "Data.Publisher[Data.Name==l[7477]] = \"Nintendo\"\n",
    "Data.Publisher[Data.Name==l[7930]] = \"THQ\"\n",
    "Data.Publisher[Data.Name==l[8317]]=\"Nintendo\"\n",
    "Data.Publisher[Data.Name==l[8328]]=\"Global Star\"\n",
    "Data.Publisher[Data.Name==l[8358]]=\"Konami Digital Entertainment\"\n",
    "Data.Publisher[Data.Name==l[8494]]=\"Unknown\"\n",
    "Data.Publisher[Data.Name==l[8754]]=\"Majesco Entertainment\"\n",
    "Data.Publisher[Data.Name==l[8837]]=\"Nintendo\"\n",
    "Data.Publisher[Data.Name==l[8883]]=\"Nintendo\"\n",
    "Data.Publisher[Data.Name==l[9703]]=\"Majesco Entertainment\"\n",
    "Data.Publisher[Data.Name==l[9812]]=\"Konami Digital Entertainment\"\n",
    "Data.Publisher[Data.Name==l[10418]]=\"Habro Interactive\"\n",
    "Data.Publisher[Data.Name==l[11175]]=\"Microsoft Game Studios\"\n",
    "Data.Publisher[Data.Name==l[11569]]=\"Hudson soft\"\n",
    "Data.Publisher[Data.Name==l[11985]]=\"Unknown\"\n",
    "Data.Publisher[Data.Name==l[12209]]=\"Nintendo\"\n",
    "Data.Publisher[Data.Name==l[12544]]=\"Wargaming.net\"\n",
    "Data.Publisher[Data.Name==l[12629]]=\"Nintendo\"\n",
    "Data.Publisher[Data.Name==l[12881]]=\"Sony Computer Entertainment\"\n",
    "Data.Publisher[Data.Name==l[13197]] = \"Nintendo\"\n",
    "Data.Publisher[Data.Name==l[13274]] = \"Nintendo\"\n",
    "Data.Publisher[Data.Name==l[13299]] = \"Nintendo\"\n",
    "Data.Publisher[Data.Name==l[13537]] = \"Rejet\"\n",
    "Data.Publisher[Data.Name==l[13876]] = \"Zoo Games\"\n",
    "Data.Publisher[Data.Name==l[14137]] = \"Gearbox Software\"\n",
    "Data.Publisher[Data.Name==l[14153]] = \"Unknown\"\n",
    "Data.Publisher[Data.Name==l[14163]] = \"Majesco Entertainment\"\n",
    "Data.Publisher[Data.Name==l[14189]] = \"Ubisoft\"\n",
    "Data.Publisher[Data.Name==l[14196]] = \"Unknown\"\n",
    "Data.Publisher[Data.Name==l[14519]] = \"Excalibur publishing\"\n",
    "Data.Publisher[Data.Name==l[14747]] = \"Unknown\"\n",
    "Data.Publisher[Data.Name==l[14975]] = \"Unknown\"\n",
    "Data.Publisher[Data.Name==l[15621]] = \"Majesco Entertainment\"\n",
    "Data.Publisher[Data.Name==l[16600]] = \"Nintendo\"\n",
    "Data.Publisher[Data.Name==l[16644]] = \"Nintendo\""
   ]
  },
  {
   "cell_type": "code",
   "execution_count": 30,
   "id": "51671c33",
   "metadata": {},
   "outputs": [
    {
     "data": {
      "text/plain": [
       "0"
      ]
     },
     "execution_count": 30,
     "metadata": {},
     "output_type": "execute_result"
    }
   ],
   "source": [
    "Data.Publisher.isnull().sum()"
   ]
  },
  {
   "cell_type": "code",
   "execution_count": 31,
   "id": "6c6e8a99",
   "metadata": {},
   "outputs": [
    {
     "data": {
      "text/plain": [
       "count    8137.000000\n",
       "mean       68.967679\n",
       "std        13.938165\n",
       "min        13.000000\n",
       "25%        60.000000\n",
       "50%        71.000000\n",
       "75%        79.000000\n",
       "max        98.000000\n",
       "Name: Critic_Score, dtype: float64"
      ]
     },
     "execution_count": 31,
     "metadata": {},
     "output_type": "execute_result"
    }
   ],
   "source": [
    "Data.Critic_Score.describe()"
   ]
  },
  {
   "cell_type": "code",
   "execution_count": 32,
   "id": "229e3418",
   "metadata": {},
   "outputs": [
    {
     "data": {
      "text/plain": [
       "0    76.0\n",
       "1     NaN\n",
       "2    82.0\n",
       "3    80.0\n",
       "4     NaN\n",
       "Name: Critic_Score, dtype: float64"
      ]
     },
     "execution_count": 32,
     "metadata": {},
     "output_type": "execute_result"
    }
   ],
   "source": [
    "Data.Critic_Score.head()"
   ]
  },
  {
   "cell_type": "code",
   "execution_count": 33,
   "id": "95380621",
   "metadata": {},
   "outputs": [
    {
     "data": {
      "text/plain": [
       "0    70.0\n",
       "dtype: float64"
      ]
     },
     "execution_count": 33,
     "metadata": {},
     "output_type": "execute_result"
    }
   ],
   "source": [
    "Data.Critic_Score.mode()"
   ]
  },
  {
   "cell_type": "code",
   "execution_count": 34,
   "id": "adca5383",
   "metadata": {},
   "outputs": [
    {
     "data": {
      "text/plain": [
       "8582"
      ]
     },
     "execution_count": 34,
     "metadata": {},
     "output_type": "execute_result"
    }
   ],
   "source": [
    "Data.Critic_Score.isnull().sum()"
   ]
  },
  {
   "cell_type": "code",
   "execution_count": 35,
   "id": "e1d3f8ca",
   "metadata": {},
   "outputs": [],
   "source": [
    "Data.Critic_Score.fillna(Data.Critic_Score.mean(),inplace=True)"
   ]
  },
  {
   "cell_type": "code",
   "execution_count": 36,
   "id": "2fb660bc",
   "metadata": {},
   "outputs": [
    {
     "data": {
      "text/plain": [
       "0"
      ]
     },
     "execution_count": 36,
     "metadata": {},
     "output_type": "execute_result"
    }
   ],
   "source": [
    "Data.Critic_Score.isnull().sum()"
   ]
  },
  {
   "cell_type": "code",
   "execution_count": 37,
   "id": "281b4865",
   "metadata": {},
   "outputs": [
    {
     "data": {
      "text/plain": [
       "count    8137.000000\n",
       "mean       26.360821\n",
       "std        18.980495\n",
       "min         3.000000\n",
       "25%        12.000000\n",
       "50%        21.000000\n",
       "75%        36.000000\n",
       "max       113.000000\n",
       "Name: Critic_Count, dtype: float64"
      ]
     },
     "execution_count": 37,
     "metadata": {},
     "output_type": "execute_result"
    }
   ],
   "source": [
    "Data.Critic_Count.describe()"
   ]
  },
  {
   "cell_type": "code",
   "execution_count": 38,
   "id": "fd10bad4",
   "metadata": {},
   "outputs": [
    {
     "data": {
      "text/plain": [
       "0    51.0\n",
       "1     NaN\n",
       "2    73.0\n",
       "3    73.0\n",
       "4     NaN\n",
       "Name: Critic_Count, dtype: float64"
      ]
     },
     "execution_count": 38,
     "metadata": {},
     "output_type": "execute_result"
    }
   ],
   "source": [
    "Data.Critic_Count.head()"
   ]
  },
  {
   "cell_type": "code",
   "execution_count": 39,
   "id": "372e47b5",
   "metadata": {},
   "outputs": [
    {
     "data": {
      "text/plain": [
       "0    4.0\n",
       "dtype: float64"
      ]
     },
     "execution_count": 39,
     "metadata": {},
     "output_type": "execute_result"
    }
   ],
   "source": [
    "Data.Critic_Count.mode()"
   ]
  },
  {
   "cell_type": "code",
   "execution_count": 40,
   "id": "afa3b080",
   "metadata": {},
   "outputs": [],
   "source": [
    "Data.Critic_Count.fillna(Data.Critic_Count.mean(),inplace=True)"
   ]
  },
  {
   "cell_type": "code",
   "execution_count": null,
   "id": "d563dfd0",
   "metadata": {},
   "outputs": [],
   "source": []
  },
  {
   "cell_type": "code",
   "execution_count": 41,
   "id": "4c9c1c2e",
   "metadata": {},
   "outputs": [
    {
     "data": {
      "text/plain": [
       "0"
      ]
     },
     "execution_count": 41,
     "metadata": {},
     "output_type": "execute_result"
    }
   ],
   "source": [
    "Data.Critic_Count.isnull().sum()"
   ]
  },
  {
   "cell_type": "code",
   "execution_count": 42,
   "id": "f4786dc7",
   "metadata": {},
   "outputs": [
    {
     "data": {
      "text/plain": [
       "count     10015\n",
       "unique       96\n",
       "top         tbd\n",
       "freq       2425\n",
       "Name: User_Score, dtype: object"
      ]
     },
     "execution_count": 42,
     "metadata": {},
     "output_type": "execute_result"
    }
   ],
   "source": [
    "Data.User_Score.describe()"
   ]
  },
  {
   "cell_type": "code",
   "execution_count": 43,
   "id": "dc763788",
   "metadata": {},
   "outputs": [
    {
     "data": {
      "text/plain": [
       "tbd    2425\n",
       "7.8     324\n",
       "8       290\n",
       "8.2     282\n",
       "8.3     254\n",
       "       ... \n",
       "1.1       2\n",
       "1.9       2\n",
       "9.6       2\n",
       "0         1\n",
       "9.7       1\n",
       "Name: User_Score, Length: 96, dtype: int64"
      ]
     },
     "execution_count": 43,
     "metadata": {},
     "output_type": "execute_result"
    }
   ],
   "source": [
    "Data.User_Score.value_counts()"
   ]
  },
  {
   "cell_type": "code",
   "execution_count": 44,
   "id": "04607cf3",
   "metadata": {},
   "outputs": [
    {
     "data": {
      "text/plain": [
       "0      8\n",
       "1    NaN\n",
       "2    8.3\n",
       "3      8\n",
       "4    NaN\n",
       "Name: User_Score, dtype: object"
      ]
     },
     "execution_count": 44,
     "metadata": {},
     "output_type": "execute_result"
    }
   ],
   "source": [
    "Data.User_Score.head()"
   ]
  },
  {
   "cell_type": "code",
   "execution_count": 45,
   "id": "fff0ffed",
   "metadata": {},
   "outputs": [],
   "source": [
    "Data['User_Score']=Data['User_Score'].astype(str)"
   ]
  },
  {
   "cell_type": "code",
   "execution_count": 46,
   "id": "bd550f63",
   "metadata": {},
   "outputs": [],
   "source": [
    "Data.User_Score.fillna(Data.User_Score.mode(),inplace=True)"
   ]
  },
  {
   "cell_type": "code",
   "execution_count": 47,
   "id": "eed73282",
   "metadata": {},
   "outputs": [
    {
     "data": {
      "text/plain": [
       "0"
      ]
     },
     "execution_count": 47,
     "metadata": {},
     "output_type": "execute_result"
    }
   ],
   "source": [
    "Data.User_Score.isnull().sum()"
   ]
  },
  {
   "cell_type": "code",
   "execution_count": 48,
   "id": "879a7884",
   "metadata": {},
   "outputs": [
    {
     "data": {
      "text/plain": [
       "count     7590.000000\n",
       "mean       162.229908\n",
       "std        561.282326\n",
       "min          4.000000\n",
       "25%         10.000000\n",
       "50%         24.000000\n",
       "75%         81.000000\n",
       "max      10665.000000\n",
       "Name: User_Count, dtype: float64"
      ]
     },
     "execution_count": 48,
     "metadata": {},
     "output_type": "execute_result"
    }
   ],
   "source": [
    "Data.User_Count.describe()"
   ]
  },
  {
   "cell_type": "code",
   "execution_count": 49,
   "id": "6b14219f",
   "metadata": {},
   "outputs": [
    {
     "data": {
      "text/plain": [
       "0    322.0\n",
       "1      NaN\n",
       "2    709.0\n",
       "3    192.0\n",
       "4      NaN\n",
       "Name: User_Count, dtype: float64"
      ]
     },
     "execution_count": 49,
     "metadata": {},
     "output_type": "execute_result"
    }
   ],
   "source": [
    "Data.User_Count.head()"
   ]
  },
  {
   "cell_type": "code",
   "execution_count": 50,
   "id": "4b3df4e7",
   "metadata": {},
   "outputs": [],
   "source": [
    "Data.User_Count.fillna(Data.User_Count.mean(),inplace=True)"
   ]
  },
  {
   "cell_type": "code",
   "execution_count": 51,
   "id": "c7fa0ddc",
   "metadata": {},
   "outputs": [
    {
     "data": {
      "text/plain": [
       "0"
      ]
     },
     "execution_count": 51,
     "metadata": {},
     "output_type": "execute_result"
    }
   ],
   "source": [
    "Data.User_Count.isnull().sum()"
   ]
  },
  {
   "cell_type": "code",
   "execution_count": 52,
   "id": "e92d6132",
   "metadata": {},
   "outputs": [
    {
     "data": {
      "text/plain": [
       "count       10096\n",
       "unique       1696\n",
       "top       Ubisoft\n",
       "freq          204\n",
       "Name: Developer, dtype: object"
      ]
     },
     "execution_count": 52,
     "metadata": {},
     "output_type": "execute_result"
    }
   ],
   "source": [
    "Data.Developer.describe()"
   ]
  },
  {
   "cell_type": "code",
   "execution_count": 53,
   "id": "e8d04755",
   "metadata": {},
   "outputs": [
    {
     "data": {
      "text/plain": [
       "0    Nintendo\n",
       "1         NaN\n",
       "2    Nintendo\n",
       "3    Nintendo\n",
       "4         NaN\n",
       "Name: Developer, dtype: object"
      ]
     },
     "execution_count": 53,
     "metadata": {},
     "output_type": "execute_result"
    }
   ],
   "source": [
    "Data.Developer.head()"
   ]
  },
  {
   "cell_type": "code",
   "execution_count": 54,
   "id": "579995fd",
   "metadata": {},
   "outputs": [
    {
     "data": {
      "text/plain": [
       "0    Ubisoft\n",
       "dtype: object"
      ]
     },
     "execution_count": 54,
     "metadata": {},
     "output_type": "execute_result"
    }
   ],
   "source": [
    "Data.Developer.mode()"
   ]
  },
  {
   "cell_type": "code",
   "execution_count": 55,
   "id": "15b5b938",
   "metadata": {},
   "outputs": [],
   "source": [
    "Data.Developer.fillna(\"Ubisoft\",inplace=True)"
   ]
  },
  {
   "cell_type": "code",
   "execution_count": 56,
   "id": "c78049c5",
   "metadata": {},
   "outputs": [
    {
     "data": {
      "text/plain": [
       "0"
      ]
     },
     "execution_count": 56,
     "metadata": {},
     "output_type": "execute_result"
    }
   ],
   "source": [
    "Data.Developer.isnull().sum()"
   ]
  },
  {
   "cell_type": "code",
   "execution_count": 57,
   "id": "54ad21e9",
   "metadata": {},
   "outputs": [
    {
     "data": {
      "text/plain": [
       "count     9950\n",
       "unique       8\n",
       "top          E\n",
       "freq      3991\n",
       "Name: Rating, dtype: object"
      ]
     },
     "execution_count": 57,
     "metadata": {},
     "output_type": "execute_result"
    }
   ],
   "source": [
    "Data.Rating.describe()"
   ]
  },
  {
   "cell_type": "code",
   "execution_count": 58,
   "id": "922f6055",
   "metadata": {},
   "outputs": [
    {
     "data": {
      "text/plain": [
       "0      E\n",
       "1    NaN\n",
       "2      E\n",
       "3      E\n",
       "4    NaN\n",
       "Name: Rating, dtype: object"
      ]
     },
     "execution_count": 58,
     "metadata": {},
     "output_type": "execute_result"
    }
   ],
   "source": [
    "Data.Rating.head()"
   ]
  },
  {
   "cell_type": "code",
   "execution_count": 59,
   "id": "5c0a868f",
   "metadata": {},
   "outputs": [
    {
     "data": {
      "text/plain": [
       "0    E\n",
       "dtype: object"
      ]
     },
     "execution_count": 59,
     "metadata": {},
     "output_type": "execute_result"
    }
   ],
   "source": [
    "Data.Rating.mode()"
   ]
  },
  {
   "cell_type": "code",
   "execution_count": 60,
   "id": "59c7abbe",
   "metadata": {},
   "outputs": [],
   "source": [
    "Data.Rating.fillna(\"E\",inplace=True)"
   ]
  },
  {
   "cell_type": "code",
   "execution_count": 61,
   "id": "dfa48818",
   "metadata": {},
   "outputs": [
    {
     "data": {
      "text/plain": [
       "0"
      ]
     },
     "execution_count": 61,
     "metadata": {},
     "output_type": "execute_result"
    }
   ],
   "source": [
    "Data.Rating.isnull().sum()"
   ]
  },
  {
   "cell_type": "code",
   "execution_count": 62,
   "id": "0365f144",
   "metadata": {},
   "outputs": [],
   "source": [
    "Data=Data.drop(['Name','Genre'],axis=1)"
   ]
  },
  {
   "cell_type": "code",
   "execution_count": 63,
   "id": "87477c1f",
   "metadata": {},
   "outputs": [
    {
     "data": {
      "text/plain": [
       "(16719, 12)"
      ]
     },
     "execution_count": 63,
     "metadata": {},
     "output_type": "execute_result"
    }
   ],
   "source": [
    "Data.shape"
   ]
  },
  {
   "cell_type": "markdown",
   "id": "f2fe8773",
   "metadata": {},
   "source": [
    "<h3>EDA for Y value</h3>"
   ]
  },
  {
   "cell_type": "code",
   "execution_count": 64,
   "id": "60de2d01",
   "metadata": {},
   "outputs": [
    {
     "data": {
      "text/plain": [
       "0    82.53\n",
       "1    40.24\n",
       "2    35.52\n",
       "3    32.77\n",
       "4    31.37\n",
       "Name: Global_Sales, dtype: float64"
      ]
     },
     "execution_count": 64,
     "metadata": {},
     "output_type": "execute_result"
    }
   ],
   "source": [
    "y.head()"
   ]
  },
  {
   "cell_type": "code",
   "execution_count": 65,
   "id": "fb412c1b",
   "metadata": {},
   "outputs": [
    {
     "data": {
      "text/plain": [
       "0"
      ]
     },
     "execution_count": 65,
     "metadata": {},
     "output_type": "execute_result"
    }
   ],
   "source": [
    "y.isnull().sum()"
   ]
  },
  {
   "cell_type": "markdown",
   "id": "6a40369b",
   "metadata": {},
   "source": [
    "<h3>Dummy variable</h3>"
   ]
  },
  {
   "cell_type": "code",
   "execution_count": 66,
   "id": "6b61184d",
   "metadata": {},
   "outputs": [],
   "source": [
    "dummy=pd.get_dummies(Data)"
   ]
  },
  {
   "cell_type": "code",
   "execution_count": 67,
   "id": "8a77ab76",
   "metadata": {},
   "outputs": [
    {
     "data": {
      "text/plain": [
       "(16719, 2462)"
      ]
     },
     "execution_count": 67,
     "metadata": {},
     "output_type": "execute_result"
    }
   ],
   "source": [
    "dummy.shape"
   ]
  },
  {
   "cell_type": "code",
   "execution_count": 68,
   "id": "54b20840",
   "metadata": {},
   "outputs": [
    {
     "name": "stdout",
     "output_type": "stream",
     "text": [
      "<class 'pandas.core.frame.DataFrame'>\n",
      "RangeIndex: 16719 entries, 0 to 16718\n",
      "Data columns (total 12 columns):\n",
      " #   Column           Non-Null Count  Dtype  \n",
      "---  ------           --------------  -----  \n",
      " 0   Platform         16719 non-null  object \n",
      " 1   Year_of_Release  16719 non-null  object \n",
      " 2   Publisher        16719 non-null  object \n",
      " 3   NA_Sales         16719 non-null  float64\n",
      " 4   EU_Sales         16719 non-null  float64\n",
      " 5   JP_Sales         16719 non-null  float64\n",
      " 6   Critic_Score     16719 non-null  float64\n",
      " 7   Critic_Count     16719 non-null  float64\n",
      " 8   User_Score       16719 non-null  object \n",
      " 9   User_Count       16719 non-null  float64\n",
      " 10  Developer        16719 non-null  object \n",
      " 11  Rating           16719 non-null  object \n",
      "dtypes: float64(6), object(6)\n",
      "memory usage: 1.5+ MB\n"
     ]
    }
   ],
   "source": [
    "Data.info()"
   ]
  },
  {
   "cell_type": "markdown",
   "id": "0a9874bf",
   "metadata": {},
   "source": [
    "<h3>Scaling method</h3>"
   ]
  },
  {
   "cell_type": "code",
   "execution_count": 69,
   "id": "dc46d8ae",
   "metadata": {},
   "outputs": [
    {
     "name": "stdout",
     "output_type": "stream",
     "text": [
      "MinMaxScaler()\n"
     ]
    }
   ],
   "source": [
    "scaler=MinMaxScaler()\n",
    "print(scaler.fit(dummy))"
   ]
  },
  {
   "cell_type": "code",
   "execution_count": 70,
   "id": "207bb359",
   "metadata": {},
   "outputs": [
    {
     "name": "stdout",
     "output_type": "stream",
     "text": [
      "[[1.         1.         0.36888454 ... 0.         0.         0.        ]\n",
      " [0.70309478 0.12361878 0.66634051 ... 0.         0.         0.        ]\n",
      " [0.37911025 0.44060773 0.37084149 ... 0.         0.         0.        ]\n",
      " ...\n",
      " [0.00145068 0.         0.         ... 0.         0.         0.        ]\n",
      " [0.         0.00172652 0.         ... 0.         0.         0.        ]\n",
      " [0.0012089  0.         0.         ... 0.         0.         0.        ]]\n"
     ]
    }
   ],
   "source": [
    "scalerdata=scaler.transform(dummy)\n",
    "print(scaler.transform(dummy))"
   ]
  },
  {
   "cell_type": "code",
   "execution_count": 71,
   "id": "80067597",
   "metadata": {},
   "outputs": [],
   "source": [
    "X= pd.DataFrame(scalerdata)"
   ]
  },
  {
   "cell_type": "code",
   "execution_count": 72,
   "id": "1240531b",
   "metadata": {},
   "outputs": [
    {
     "data": {
      "text/html": [
       "<div>\n",
       "<style scoped>\n",
       "    .dataframe tbody tr th:only-of-type {\n",
       "        vertical-align: middle;\n",
       "    }\n",
       "\n",
       "    .dataframe tbody tr th {\n",
       "        vertical-align: top;\n",
       "    }\n",
       "\n",
       "    .dataframe thead th {\n",
       "        text-align: right;\n",
       "    }\n",
       "</style>\n",
       "<table border=\"1\" class=\"dataframe\">\n",
       "  <thead>\n",
       "    <tr style=\"text-align: right;\">\n",
       "      <th></th>\n",
       "      <th>0</th>\n",
       "      <th>1</th>\n",
       "      <th>2</th>\n",
       "      <th>3</th>\n",
       "      <th>4</th>\n",
       "      <th>5</th>\n",
       "      <th>6</th>\n",
       "      <th>7</th>\n",
       "      <th>8</th>\n",
       "      <th>9</th>\n",
       "      <th>...</th>\n",
       "      <th>2452</th>\n",
       "      <th>2453</th>\n",
       "      <th>2454</th>\n",
       "      <th>2455</th>\n",
       "      <th>2456</th>\n",
       "      <th>2457</th>\n",
       "      <th>2458</th>\n",
       "      <th>2459</th>\n",
       "      <th>2460</th>\n",
       "      <th>2461</th>\n",
       "    </tr>\n",
       "  </thead>\n",
       "  <tbody>\n",
       "    <tr>\n",
       "      <th>0</th>\n",
       "      <td>1.000000</td>\n",
       "      <td>1.000000</td>\n",
       "      <td>0.368885</td>\n",
       "      <td>0.741176</td>\n",
       "      <td>0.436364</td>\n",
       "      <td>0.029828</td>\n",
       "      <td>0.0</td>\n",
       "      <td>0.0</td>\n",
       "      <td>0.0</td>\n",
       "      <td>0.0</td>\n",
       "      <td>...</td>\n",
       "      <td>0.0</td>\n",
       "      <td>0.0</td>\n",
       "      <td>0.0</td>\n",
       "      <td>1.0</td>\n",
       "      <td>0.0</td>\n",
       "      <td>0.0</td>\n",
       "      <td>0.0</td>\n",
       "      <td>0.0</td>\n",
       "      <td>0.0</td>\n",
       "      <td>0.0</td>\n",
       "    </tr>\n",
       "    <tr>\n",
       "      <th>1</th>\n",
       "      <td>0.703095</td>\n",
       "      <td>0.123619</td>\n",
       "      <td>0.666341</td>\n",
       "      <td>0.658443</td>\n",
       "      <td>0.212371</td>\n",
       "      <td>0.014842</td>\n",
       "      <td>0.0</td>\n",
       "      <td>0.0</td>\n",
       "      <td>0.0</td>\n",
       "      <td>0.0</td>\n",
       "      <td>...</td>\n",
       "      <td>0.0</td>\n",
       "      <td>0.0</td>\n",
       "      <td>0.0</td>\n",
       "      <td>1.0</td>\n",
       "      <td>0.0</td>\n",
       "      <td>0.0</td>\n",
       "      <td>0.0</td>\n",
       "      <td>0.0</td>\n",
       "      <td>0.0</td>\n",
       "      <td>0.0</td>\n",
       "    </tr>\n",
       "    <tr>\n",
       "      <th>2</th>\n",
       "      <td>0.379110</td>\n",
       "      <td>0.440608</td>\n",
       "      <td>0.370841</td>\n",
       "      <td>0.811765</td>\n",
       "      <td>0.636364</td>\n",
       "      <td>0.066129</td>\n",
       "      <td>0.0</td>\n",
       "      <td>0.0</td>\n",
       "      <td>0.0</td>\n",
       "      <td>0.0</td>\n",
       "      <td>...</td>\n",
       "      <td>0.0</td>\n",
       "      <td>0.0</td>\n",
       "      <td>0.0</td>\n",
       "      <td>1.0</td>\n",
       "      <td>0.0</td>\n",
       "      <td>0.0</td>\n",
       "      <td>0.0</td>\n",
       "      <td>0.0</td>\n",
       "      <td>0.0</td>\n",
       "      <td>0.0</td>\n",
       "    </tr>\n",
       "    <tr>\n",
       "      <th>3</th>\n",
       "      <td>0.377418</td>\n",
       "      <td>0.377417</td>\n",
       "      <td>0.320939</td>\n",
       "      <td>0.788235</td>\n",
       "      <td>0.636364</td>\n",
       "      <td>0.017634</td>\n",
       "      <td>0.0</td>\n",
       "      <td>0.0</td>\n",
       "      <td>0.0</td>\n",
       "      <td>0.0</td>\n",
       "      <td>...</td>\n",
       "      <td>0.0</td>\n",
       "      <td>0.0</td>\n",
       "      <td>0.0</td>\n",
       "      <td>1.0</td>\n",
       "      <td>0.0</td>\n",
       "      <td>0.0</td>\n",
       "      <td>0.0</td>\n",
       "      <td>0.0</td>\n",
       "      <td>0.0</td>\n",
       "      <td>0.0</td>\n",
       "    </tr>\n",
       "    <tr>\n",
       "      <th>4</th>\n",
       "      <td>0.272485</td>\n",
       "      <td>0.306975</td>\n",
       "      <td>1.000000</td>\n",
       "      <td>0.658443</td>\n",
       "      <td>0.212371</td>\n",
       "      <td>0.014842</td>\n",
       "      <td>0.0</td>\n",
       "      <td>0.0</td>\n",
       "      <td>0.0</td>\n",
       "      <td>0.0</td>\n",
       "      <td>...</td>\n",
       "      <td>0.0</td>\n",
       "      <td>0.0</td>\n",
       "      <td>0.0</td>\n",
       "      <td>1.0</td>\n",
       "      <td>0.0</td>\n",
       "      <td>0.0</td>\n",
       "      <td>0.0</td>\n",
       "      <td>0.0</td>\n",
       "      <td>0.0</td>\n",
       "      <td>0.0</td>\n",
       "    </tr>\n",
       "  </tbody>\n",
       "</table>\n",
       "<p>5 rows × 2462 columns</p>\n",
       "</div>"
      ],
      "text/plain": [
       "       0         1         2         3         4         5     6     7     \\\n",
       "0  1.000000  1.000000  0.368885  0.741176  0.436364  0.029828   0.0   0.0   \n",
       "1  0.703095  0.123619  0.666341  0.658443  0.212371  0.014842   0.0   0.0   \n",
       "2  0.379110  0.440608  0.370841  0.811765  0.636364  0.066129   0.0   0.0   \n",
       "3  0.377418  0.377417  0.320939  0.788235  0.636364  0.017634   0.0   0.0   \n",
       "4  0.272485  0.306975  1.000000  0.658443  0.212371  0.014842   0.0   0.0   \n",
       "\n",
       "   8     9     ...  2452  2453  2454  2455  2456  2457  2458  2459  2460  2461  \n",
       "0   0.0   0.0  ...   0.0   0.0   0.0   1.0   0.0   0.0   0.0   0.0   0.0   0.0  \n",
       "1   0.0   0.0  ...   0.0   0.0   0.0   1.0   0.0   0.0   0.0   0.0   0.0   0.0  \n",
       "2   0.0   0.0  ...   0.0   0.0   0.0   1.0   0.0   0.0   0.0   0.0   0.0   0.0  \n",
       "3   0.0   0.0  ...   0.0   0.0   0.0   1.0   0.0   0.0   0.0   0.0   0.0   0.0  \n",
       "4   0.0   0.0  ...   0.0   0.0   0.0   1.0   0.0   0.0   0.0   0.0   0.0   0.0  \n",
       "\n",
       "[5 rows x 2462 columns]"
      ]
     },
     "execution_count": 72,
     "metadata": {},
     "output_type": "execute_result"
    }
   ],
   "source": [
    "X.head()"
   ]
  },
  {
   "cell_type": "code",
   "execution_count": 73,
   "id": "49858c3c",
   "metadata": {},
   "outputs": [
    {
     "data": {
      "text/plain": [
       "(16719, 2462)"
      ]
     },
     "execution_count": 73,
     "metadata": {},
     "output_type": "execute_result"
    }
   ],
   "source": [
    "X.shape"
   ]
  },
  {
   "cell_type": "markdown",
   "id": "2f391745",
   "metadata": {},
   "source": [
    "<h3>Splitting test and train data"
   ]
  },
  {
   "cell_type": "code",
   "execution_count": 74,
   "id": "e2f8b9d3",
   "metadata": {},
   "outputs": [],
   "source": [
    "x=X.iloc[:14576]\n",
    "Test=X.iloc[14576:]"
   ]
  },
  {
   "cell_type": "code",
   "execution_count": 1,
   "id": "93e2a108",
   "metadata": {},
   "outputs": [
    {
     "ename": "NameError",
     "evalue": "name 'train_test_split' is not defined",
     "output_type": "error",
     "traceback": [
      "\u001b[1;31m---------------------------------------------------------------------------\u001b[0m",
      "\u001b[1;31mNameError\u001b[0m                                 Traceback (most recent call last)",
      "\u001b[1;32m~\\AppData\\Local\\Temp/ipykernel_9884/1249556404.py\u001b[0m in \u001b[0;36m<module>\u001b[1;34m\u001b[0m\n\u001b[1;32m----> 1\u001b[1;33m \u001b[0mx_train\u001b[0m\u001b[1;33m,\u001b[0m\u001b[0mx_test\u001b[0m\u001b[1;33m,\u001b[0m\u001b[0my_train\u001b[0m\u001b[1;33m,\u001b[0m\u001b[0my_test\u001b[0m\u001b[1;33m=\u001b[0m \u001b[0mtrain_test_split\u001b[0m\u001b[1;33m(\u001b[0m\u001b[0mx\u001b[0m\u001b[1;33m,\u001b[0m\u001b[0my\u001b[0m\u001b[1;33m,\u001b[0m\u001b[0mtrain_size\u001b[0m \u001b[1;33m=\u001b[0m \u001b[1;36m0.8\u001b[0m\u001b[1;33m,\u001b[0m \u001b[0mtest_size\u001b[0m \u001b[1;33m=\u001b[0m \u001b[1;36m0.2\u001b[0m\u001b[1;33m,\u001b[0m\u001b[0mrandom_state\u001b[0m \u001b[1;33m=\u001b[0m\u001b[1;36m50\u001b[0m\u001b[1;33m)\u001b[0m\u001b[1;33m\u001b[0m\u001b[1;33m\u001b[0m\u001b[0m\n\u001b[0m",
      "\u001b[1;31mNameError\u001b[0m: name 'train_test_split' is not defined"
     ]
    }
   ],
   "source": [
    "x_train,x_test,y_train,y_test= train_test_split(x,y,train_size = 0.8, test_size = 0.2,random_state =50)"
   ]
  },
  {
   "cell_type": "markdown",
   "id": "106efda4",
   "metadata": {},
   "source": [
    "<h1>Regressions</h1>"
   ]
  },
  {
   "cell_type": "markdown",
   "id": "f41aeddd",
   "metadata": {},
   "source": [
    "<h3>Linear Regression</h3>"
   ]
  },
  {
   "cell_type": "code",
   "execution_count": 76,
   "id": "307bdcbe",
   "metadata": {},
   "outputs": [
    {
     "name": "stdout",
     "output_type": "stream",
     "text": [
      "Train Score = 0.9942035554692673\n",
      "Test Score = -4.277441913810924e+19\n"
     ]
    }
   ],
   "source": [
    "model=LinearRegression().fit(x_train,y_train)\n",
    "print(\"Train Score =\",model.score(x_train,y_train))\n",
    "print(\"Test Score =\",model.score(x_test,y_test))\n",
    "predicted_y=model.predict(x_test)"
   ]
  },
  {
   "cell_type": "code",
   "execution_count": 77,
   "id": "238ca2e9",
   "metadata": {},
   "outputs": [
    {
     "data": {
      "text/plain": [
       "8130735118.165568"
      ]
     },
     "execution_count": 77,
     "metadata": {},
     "output_type": "execute_result"
    }
   ],
   "source": [
    "from sklearn.metrics import mean_squared_error\n",
    "mean_squared_error(y_test,predicted_y,squared=False)"
   ]
  },
  {
   "cell_type": "markdown",
   "id": "94248850",
   "metadata": {},
   "source": [
    "<h3>Decision Regression</h3>"
   ]
  },
  {
   "cell_type": "code",
   "execution_count": 78,
   "id": "23ecc5bb",
   "metadata": {},
   "outputs": [
    {
     "name": "stdout",
     "output_type": "stream",
     "text": [
      "Train Score = 0.9999999833596269\n",
      "Test Score = 0.9544347704727935\n"
     ]
    }
   ],
   "source": [
    "model1=DecisionTreeRegressor().fit(x_train,y_train)\n",
    "print(\"Train Score =\",model1.score(x_train,y_train))\n",
    "print(\"Test Score =\",model1.score(x_test,y_test))\n",
    "predict_y=model1.predict(x_test)"
   ]
  },
  {
   "cell_type": "code",
   "execution_count": 79,
   "id": "ae6326c7",
   "metadata": {},
   "outputs": [
    {
     "data": {
      "text/plain": [
       "0.2653716554780654"
      ]
     },
     "execution_count": 79,
     "metadata": {},
     "output_type": "execute_result"
    }
   ],
   "source": [
    "from sklearn.metrics import mean_squared_error\n",
    "mean_squared_error(y_test,predict_y,squared=False)"
   ]
  },
  {
   "cell_type": "markdown",
   "id": "857fc446",
   "metadata": {},
   "source": [
    "<h3>Random forest Regression</h3>"
   ]
  },
  {
   "cell_type": "code",
   "execution_count": 80,
   "id": "663d5ee0",
   "metadata": {},
   "outputs": [
    {
     "data": {
      "text/plain": [
       "RandomForestRegressor(random_state=0)"
      ]
     },
     "execution_count": 80,
     "metadata": {},
     "output_type": "execute_result"
    }
   ],
   "source": [
    "from sklearn.ensemble import RandomForetstRegressor\n",
    "model2=RandomForestRegressor(n_estimators = 100, random_state = 0)\n",
    "model2.fit(x_train, y_train)"
   ]
  },
  {
   "cell_type": "code",
   "execution_count": 81,
   "id": "0d476bdd",
   "metadata": {},
   "outputs": [
    {
     "data": {
      "text/plain": [
       "0.9819324052206306"
      ]
     },
     "execution_count": 81,
     "metadata": {},
     "output_type": "execute_result"
    }
   ],
   "source": [
    "model2.score(x_train,y_train)"
   ]
  },
  {
   "cell_type": "code",
   "execution_count": 82,
   "id": "f0fb2cfa",
   "metadata": {},
   "outputs": [
    {
     "data": {
      "text/plain": [
       "0.9795475815192447"
      ]
     },
     "execution_count": 82,
     "metadata": {},
     "output_type": "execute_result"
    }
   ],
   "source": [
    "model2.score(x_test,y_test)"
   ]
  },
  {
   "cell_type": "code",
   "execution_count": 83,
   "id": "e2dc62e5",
   "metadata": {},
   "outputs": [],
   "source": [
    "predic_y=model2.predict(x_test)"
   ]
  },
  {
   "cell_type": "code",
   "execution_count": 84,
   "id": "b6319ee5",
   "metadata": {},
   "outputs": [
    {
     "data": {
      "text/plain": [
       "0.177791128983034"
      ]
     },
     "execution_count": 84,
     "metadata": {},
     "output_type": "execute_result"
    }
   ],
   "source": [
    "from sklearn.metrics import mean_squared_error\n",
    "mean_squared_error(y_test,predic_y,squared=False)"
   ]
  },
  {
   "cell_type": "markdown",
   "id": "88d63144",
   "metadata": {},
   "source": [
    "<h3>Gradient Boosting</h3>"
   ]
  },
  {
   "cell_type": "code",
   "execution_count": 85,
   "id": "998dbbdf",
   "metadata": {},
   "outputs": [
    {
     "data": {
      "text/plain": [
       "GradientBoostingRegressor(random_state=0)"
      ]
     },
     "execution_count": 85,
     "metadata": {},
     "output_type": "execute_result"
    }
   ],
   "source": [
    "model3=GradientBoostingRegressor(n_estimators = 100, random_state = 0)\n",
    "model3.fit(x_train, y_train)"
   ]
  },
  {
   "cell_type": "code",
   "execution_count": 86,
   "id": "f9fa6bbe",
   "metadata": {},
   "outputs": [
    {
     "data": {
      "text/plain": [
       "0.9976956840632574"
      ]
     },
     "execution_count": 86,
     "metadata": {},
     "output_type": "execute_result"
    }
   ],
   "source": [
    "model3.score(x_train,y_train)"
   ]
  },
  {
   "cell_type": "code",
   "execution_count": 87,
   "id": "da650856",
   "metadata": {},
   "outputs": [
    {
     "data": {
      "text/plain": [
       "0.9929806158844842"
      ]
     },
     "execution_count": 87,
     "metadata": {},
     "output_type": "execute_result"
    }
   ],
   "source": [
    "model3.score(x_test,y_test)"
   ]
  },
  {
   "cell_type": "code",
   "execution_count": 88,
   "id": "92759fe6",
   "metadata": {},
   "outputs": [],
   "source": [
    "pre_y=model3.predict(x_test)"
   ]
  },
  {
   "cell_type": "code",
   "execution_count": 89,
   "id": "7408dc86",
   "metadata": {},
   "outputs": [
    {
     "data": {
      "text/plain": [
       "0.10415671083665888"
      ]
     },
     "execution_count": 89,
     "metadata": {},
     "output_type": "execute_result"
    }
   ],
   "source": [
    "from sklearn.metrics import mean_squared_error\n",
    "mean_squared_error(y_test,pre_y,squared=False)"
   ]
  },
  {
   "cell_type": "markdown",
   "id": "61b20372",
   "metadata": {},
   "source": [
    "<h3>Ada boosting</h3>"
   ]
  },
  {
   "cell_type": "code",
   "execution_count": 90,
   "id": "d81240c3",
   "metadata": {},
   "outputs": [
    {
     "data": {
      "text/plain": [
       "AdaBoostRegressor(n_estimators=100, random_state=0)"
      ]
     },
     "execution_count": 90,
     "metadata": {},
     "output_type": "execute_result"
    }
   ],
   "source": [
    "from sklearn.ensemble import AdaBoostRegressor\n",
    "regress=AdaBoostRegressor(random_state=0, n_estimators=100)\n",
    "regress.fit(x_train, y_train)"
   ]
  },
  {
   "cell_type": "code",
   "execution_count": 91,
   "id": "f1aa5780",
   "metadata": {},
   "outputs": [
    {
     "data": {
      "text/plain": [
       "0.14231071722203514"
      ]
     },
     "execution_count": 91,
     "metadata": {},
     "output_type": "execute_result"
    }
   ],
   "source": [
    "regress.score(x_train,y_train)"
   ]
  },
  {
   "cell_type": "code",
   "execution_count": 92,
   "id": "49a13d88",
   "metadata": {},
   "outputs": [
    {
     "data": {
      "text/plain": [
       "-0.6749960815516678"
      ]
     },
     "execution_count": 92,
     "metadata": {},
     "output_type": "execute_result"
    }
   ],
   "source": [
    "regress.score(x_test,y_test)"
   ]
  },
  {
   "cell_type": "code",
   "execution_count": 93,
   "id": "dca61686",
   "metadata": {},
   "outputs": [],
   "source": [
    "prdic_y=regress.predict(x_test)"
   ]
  },
  {
   "cell_type": "code",
   "execution_count": 94,
   "id": "93d8a167",
   "metadata": {},
   "outputs": [
    {
     "data": {
      "text/plain": [
       "1.6089577880270278"
      ]
     },
     "execution_count": 94,
     "metadata": {},
     "output_type": "execute_result"
    }
   ],
   "source": [
    "from sklearn.metrics import mean_squared_error\n",
    "mean_squared_error(y_test,prdic_y,squared=False)"
   ]
  },
  {
   "cell_type": "markdown",
   "id": "0fc3421a",
   "metadata": {},
   "source": [
    "<h1>Conclusion</h1>"
   ]
  },
  {
   "cell_type": "markdown",
   "id": "7cca5430",
   "metadata": {},
   "source": [
    "<h3>From these regression we took Gradient Boosting gives best score compare to other models</h3>"
   ]
  },
  {
   "cell_type": "code",
   "execution_count": 95,
   "id": "d2bfd692",
   "metadata": {},
   "outputs": [],
   "source": [
    "result=model3.predict(Test)"
   ]
  },
  {
   "cell_type": "code",
   "execution_count": 96,
   "id": "c191cc4b",
   "metadata": {},
   "outputs": [
    {
     "name": "stdout",
     "output_type": "stream",
     "text": [
      "[0.15624461 0.14508815 0.15624461 ... 0.09866902 0.0526282  0.07185574]\n"
     ]
    }
   ],
   "source": [
    "print(result)"
   ]
  },
  {
   "cell_type": "code",
   "execution_count": 97,
   "id": "11809773",
   "metadata": {},
   "outputs": [],
   "source": [
    "result=pd.DataFrame(result)"
   ]
  },
  {
   "cell_type": "code",
   "execution_count": 98,
   "id": "20c332cd",
   "metadata": {},
   "outputs": [],
   "source": [
    "result1=pd.concat([test_data.Name,result],axis=1)"
   ]
  },
  {
   "cell_type": "code",
   "execution_count": 99,
   "id": "e01cf040",
   "metadata": {},
   "outputs": [],
   "source": [
    "result1.rename(columns={0:'Global sales'}, inplace=True)"
   ]
  },
  {
   "cell_type": "code",
   "execution_count": 100,
   "id": "0753c777",
   "metadata": {},
   "outputs": [
    {
     "name": "stdout",
     "output_type": "stream",
     "text": [
      "<class 'pandas.core.frame.DataFrame'>\n",
      "RangeIndex: 2143 entries, 0 to 2142\n",
      "Data columns (total 2 columns):\n",
      " #   Column        Non-Null Count  Dtype  \n",
      "---  ------        --------------  -----  \n",
      " 0   Name          2143 non-null   object \n",
      " 1   Global sales  2143 non-null   float64\n",
      "dtypes: float64(1), object(1)\n",
      "memory usage: 33.6+ KB\n"
     ]
    }
   ],
   "source": [
    "result1.info()"
   ]
  },
  {
   "cell_type": "code",
   "execution_count": 101,
   "id": "4efbb662",
   "metadata": {},
   "outputs": [],
   "source": [
    "result1.to_csv('D:\\Imarti Excel files\\Hackathon.csv',index=False)"
   ]
  },
  {
   "cell_type": "code",
   "execution_count": null,
   "id": "b26b00bd",
   "metadata": {},
   "outputs": [],
   "source": []
  }
 ],
 "metadata": {
  "kernelspec": {
   "display_name": "Python 3 (ipykernel)",
   "language": "python",
   "name": "python3"
  },
  "language_info": {
   "codemirror_mode": {
    "name": "ipython",
    "version": 3
   },
   "file_extension": ".py",
   "mimetype": "text/x-python",
   "name": "python",
   "nbconvert_exporter": "python",
   "pygments_lexer": "ipython3",
   "version": "3.9.7"
  }
 },
 "nbformat": 4,
 "nbformat_minor": 5
}
